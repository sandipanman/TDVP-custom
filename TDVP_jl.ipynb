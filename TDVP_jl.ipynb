{
 "cells": [
  {
   "cell_type": "code",
   "execution_count": 169,
   "id": "212982ad",
   "metadata": {
    "ExecuteTime": {
     "end_time": "2022-06-23T00:13:12.088000+05:30",
     "start_time": "2022-06-22T18:43:12.077Z"
    }
   },
   "outputs": [],
   "source": [
    "\n",
    "using ITensors\n",
    "using ITensors: position!\n",
    "using KrylovKit\n",
    "using Printf\n",
    "using ITensorTDVP"
   ]
  },
  {
   "cell_type": "markdown",
   "id": "02311b0f",
   "metadata": {},
   "source": [
    "# Simple TDVP\n",
    "\n",
    "Below is a code for a simple TDVP implementation (both for 1-site & 2-site variant). This is based on the ITensorTDVP. The function tdvp! takes the folllowing arguments.\n",
    "\n",
    "**Initial wavefunction** <br>\n",
    "**Hamiltonian :** (in MPO form) to time evolve the wave function<br>\n",
    "**dt(time step)** <br>\n",
    "**tf(final time )** : time upto which you want to evolve the system)<br>\n",
    "**reverse_step_val :** Decides whether you need the right-to-left swap (Changes the accuracy O(dt^3) for true,O(dt^2) for no)\n",
    "\n",
    "Time is entered as real for time evolution. The i is multiplied internally."
   ]
  },
  {
   "cell_type": "code",
   "execution_count": 157,
   "id": "1cbcce98",
   "metadata": {
    "ExecuteTime": {
     "end_time": "2022-06-22T23:52:31.319000+05:30",
     "start_time": "2022-06-22T18:22:31.300Z"
    }
   },
   "outputs": [
    {
     "data": {
      "text/plain": [
       "tdvp! (generic function with 1 method)"
      ]
     },
     "execution_count": 157,
     "metadata": {},
     "output_type": "execute_result"
    }
   ],
   "source": [
    "struct TDVP end\n",
    "set_nsite!(PH::ProjMPO,nsite) = (PH.nsite = nsite)\n",
    "\n",
    "function solver(H, t, psi0; kwargs...)\n",
    "    solver_kwargs = (;\n",
    "      ishermitian=get(kwargs, :ishermitian, true),\n",
    "      issymmetric=get(kwargs, :issymmetric, true),\n",
    "      tol=get(kwargs, :solver_tol, 1E-12),\n",
    "      krylovdim=get(kwargs, :solver_krylovdim, 30),\n",
    "      maxiter=get(kwargs, :solver_maxiter, 100),\n",
    "      verbosity=get(kwargs, :solver_outputlevel, 0),\n",
    "      eager=true,\n",
    "    )\n",
    "    psi, info = exponentiate(H, t, psi0; solver_kwargs...)\n",
    "    return psi, info\n",
    "end\n",
    "\n",
    "function measure_Sz(psi,n)\n",
    "    psi = ITensors.orthogonalize(psi,n)\n",
    "    sn = siteind(psi,n)\n",
    "    Sz = scalar(dag(prime(psi[n],\"Site\"))*op(\"Sz\",sn)*psi[n])\n",
    "    return real(Sz)\n",
    "end\n",
    "\n",
    "\n",
    "function tdvp!(ψ::MPS,H::MPO,dt::Float64,tf::Float64,nsite::Int64,reverse_step_val; kwargs...)\n",
    "    \n",
    "    num_time_steps = Int(tf/dt)\n",
    "    \n",
    "    #kwargs\n",
    "   \n",
    "    #The error tolerance for `KrylovKit.exponentiate`\n",
    "    exp_tol = get(kwargs,:exp_tol, 1e-14)\n",
    "    #Passed to KrylovKit\n",
    "    krylovdim = get(kwargs,:krylovdim, 30 )\n",
    "    maxiter = get(kwargs,:maxiter,100)\n",
    "    normalize = get(kwargs,:normalize,true)\n",
    "    #Is the Hamiltonian H hermitian? Useful to KrylovKit for exponentiation\n",
    "    hermitian = get(kwargs,:hermitian,true)\n",
    "    \n",
    "    maxdim::Integer = get(kwargs, :maxdim, typemax(Int))\n",
    "    mindim::Integer = get(kwargs, :mindim, 1)\n",
    "    cutoff::Real = get(kwargs, :cutoff, 1E-16)\n",
    "    \n",
    "    #If progress bar is used\n",
    "    #pbar = get(kwargs,:progress, true) ? Progress(num_time_steps, desc=\"Evolving state... \") : nothing\n",
    "    \n",
    "   #Imaginary time step\n",
    "    τ = 1im*dt\n",
    "    \n",
    "    N = length(ψ)\n",
    "    #start with right orthogonalised wave function\n",
    "    ITensors.orthogonalize!(ψ,1)\n",
    "    \n",
    "    #Projected MPO\n",
    "    #https://docs.juliahub.com/ITensors/P3pqL/0.1.7/ProjMPO.html\n",
    "    \n",
    "    PH = ProjMPO(H)\n",
    "    position!(PH,ψ,1)\n",
    "    \n",
    "    \n",
    "    \n",
    "    set_nsite!(PH, nsite)\n",
    "    \n",
    "    \n",
    "    maxtruncerr = 0.0\n",
    "    \n",
    "    \n",
    "    #Do the time evolution\n",
    "    for time_step in 1:num_time_steps\n",
    "        stime  = @elapsed begin\n",
    "        # b is the active site  ha gives 1/2 depending on right/left swap\n",
    "        current_time = dt*time_step\n",
    "        for (b,ha) in sweepnext(N; ncenter=nsite)\n",
    "                # Do 'forwards' evolution step\n",
    "                \n",
    "                \n",
    "                set_nsite!(PH, nsite)\n",
    "                #orthogonalise at position b\n",
    "                \n",
    "                position!(PH, ψ, b)\n",
    "                if nsite == 1\n",
    "                  #println(\" Forward phi1 Selected\")\n",
    "                  phi1 = ψ[b]\n",
    "                elseif nsite == 2\n",
    "                  phi1 = ψ[b] * ψ[b + 1]\n",
    "                end\n",
    "\n",
    "                \n",
    "                #orthogonalise at position b\n",
    "                \n",
    "                #phi1, info = exponentiate(PH, -τ/2, phi1; ishermitian=hermitian , tol=exp_tol, krylovdim=krylovdim)\n",
    "                phi1, info = solver(PH, -τ/2, phi1)\n",
    "                info.converged==0 && throw(\"exponentiate did not converge\")\n",
    "                \n",
    "                spec = nothing\n",
    "                \n",
    "                \n",
    "                if nsite == 1\n",
    "                  ψ[b] = phi1\n",
    "                  Sz = measure_Sz(ψ,b) \n",
    "                  #@printf(\"Sweep %d,  Sz %f ----------------------------\\n\", time_step , Sz)\n",
    "                  flush(stdout)\n",
    "                  #println(\" Forward phi1 Replaced\")\n",
    "                elseif nsite == 2\n",
    "                  #Determine sweep direction\n",
    "                  dir = ha == 1 ? \"left\" : \"right\"\n",
    "                  spec = replacebond!(ψ,b,phi1;mindim,cutoff,normalize=normalize, ortho = dir, kwargs... )\n",
    "                  maxtruncerr = max(maxtruncerr, spec.truncerr)\n",
    "                end\n",
    "                \n",
    "                if(reverse_step_val == true)\n",
    "                    if ((ha == 1 && (b + nsite - 1 != N)) || (ha == 2 && b != 1))\n",
    "\n",
    "\n",
    "                        b1 = (ha==1 ? b + 1 : b)\n",
    "                        Δ = (ha==1 ? +1 : -1)\n",
    "\n",
    "                        if nsite == 2\n",
    "                            phi0 = ψ[b1]\n",
    "                        elseif nsite == 1\n",
    "                            #println(\" SVD\")\n",
    "                            uinds = uniqueinds(phi1, ψ[b + Δ])\n",
    "                            U, S, V = svd(phi1, uinds)\n",
    "                            ψ[b] = U\n",
    "                            phi0 = S * V\n",
    "                            if ha == 1\n",
    "                              ITensors.setleftlim!(ψ, b)\n",
    "                            elseif ha == 2\n",
    "                              ITensors.setrightlim!(ψ, b)\n",
    "                            end\n",
    "                        end\n",
    "\n",
    "                        # evolve with single-site Hamiltonian backward in time.\n",
    "                        # In the case of imaginary time-evolution this step\n",
    "                        # is not necessary (see Ref. [1])\n",
    "\n",
    "\n",
    "\n",
    "\n",
    "                        set_nsite!(PH, nsite - 1)\n",
    "                        ITensors.position!(PH, ψ, b1)\n",
    "                        phi0, info = exponentiate(PH, τ/2, phi0; ishermitian=hermitian , tol=exp_tol, krylovdim=krylovdim)\n",
    "                        normalize && (phi0 ./= norm(phi0))\n",
    "                        info.converged==0 && throw(\"exponentiate did not converge\")\n",
    "\n",
    "\n",
    "                        if nsite == 2\n",
    "                            ψ[b1] = phi0\n",
    "                            #print(\" Reverse phi  calculated\")\n",
    "                        elseif nsite == 1\n",
    "                            #println(\" Reverse phi  calculated\")\n",
    "                            ψ[b + Δ] = phi0 * ψ[b + Δ]\n",
    "                            if ha == 1\n",
    "                              ITensors.setrightlim!(ψ, b + Δ + 1)\n",
    "                            elseif ha == 2\n",
    "                              ITensors.setleftlim!(ψ, b + Δ - 1)\n",
    "                            end\n",
    "                        end\n",
    "\n",
    "                        set_nsite!(PH, nsite)\n",
    "\n",
    "\n",
    "\n",
    "                    end\n",
    "                    #if ((ha == 1 && (b + nsite - 1 != N)) || (ha == 2 && b != 1))\n",
    "                end\n",
    "                #for if(reverse_step_val == true)\n",
    "        end\n",
    "        #for(b,ha)\n",
    "            \n",
    "            #Sz = measure_Sz(ψ,5) \n",
    "            #@printf(\"Sweep %d,  Sz %f ----------------------------\\n\", time_step , Sz)\n",
    "            #flush(stdout)\n",
    "\n",
    "        \n",
    "        end\n",
    "        #time elapsed\n",
    "        \n",
    "        \n",
    "       \n",
    "        \n",
    "    end\n",
    "    #External for loop for time_step\n",
    "    \n",
    "    ψ=ψ/norm(ψ)\n",
    "end\n",
    "#function\n"
   ]
  },
  {
   "cell_type": "code",
   "execution_count": 158,
   "id": "b16c1ec4",
   "metadata": {
    "ExecuteTime": {
     "end_time": "2022-06-22T23:52:38.577000+05:30",
     "start_time": "2022-06-22T18:22:38.512Z"
    },
    "scrolled": true
   },
   "outputs": [
    {
     "name": "stdout",
     "output_type": "stream",
     "text": [
      "site : 1 0.04368128972185656\n",
      "site : 2 -0.2996617443564895\n",
      "site : 3 -0.09959572031063438\n",
      "site : 4 -0.008983413577377506\n",
      "site : 5 -0.14797405332140992\n",
      "site : 6 -0.04375798996271485\n",
      "site : 7 -0.02098773956131647\n",
      "site : 8 -0.21278208938971926\n",
      "site : 9 -0.026386044085882316\n",
      "site : 10 0.05371836952978594\n",
      "site : 11 0.046454599439089195\n",
      "site : 12 0.08163827403479483\n",
      "site : 13 -0.08495614626104304\n",
      "site : 14 0.004568633228926915\n",
      "site : 15 -0.023087169803025907\n"
     ]
    },
    {
     "data": {
      "text/plain": [
       "MPS\n",
       "[1] ((dim=2|id=304|\"S=1/2,Site,n=1\"), (dim=5|id=107|\"Link,l=1\"))\n",
       "[2] ((dim=5|id=107|\"Link,l=1\"), (dim=2|id=369|\"S=1/2,Site,n=2\"), (dim=5|id=895|\"Link,l=2\"))\n",
       "[3] ((dim=5|id=895|\"Link,l=2\"), (dim=2|id=444|\"S=1/2,Site,n=3\"), (dim=5|id=316|\"Link,l=3\"))\n",
       "[4] ((dim=5|id=316|\"Link,l=3\"), (dim=2|id=134|\"S=1/2,Site,n=4\"), (dim=5|id=823|\"Link,l=4\"))\n",
       "[5] ((dim=5|id=823|\"Link,l=4\"), (dim=2|id=998|\"S=1/2,Site,n=5\"), (dim=5|id=479|\"Link,l=5\"))\n",
       "[6] ((dim=5|id=479|\"Link,l=5\"), (dim=2|id=634|\"S=1/2,Site,n=6\"), (dim=5|id=95|\"Link,l=6\"))\n",
       "[7] ((dim=5|id=95|\"Link,l=6\"), (dim=2|id=772|\"S=1/2,Site,n=7\"), (dim=5|id=146|\"Link,l=7\"))\n",
       "[8] ((dim=5|id=146|\"Link,l=7\"), (dim=2|id=531|\"S=1/2,Site,n=8\"), (dim=5|id=567|\"Link,l=8\"))\n",
       "[9] ((dim=5|id=567|\"Link,l=8\"), (dim=2|id=433|\"S=1/2,Site,n=9\"), (dim=5|id=608|\"Link,l=9\"))\n",
       "[10] ((dim=5|id=608|\"Link,l=9\"), (dim=2|id=363|\"S=1/2,Site,n=10\"), (dim=5|id=420|\"Link,l=10\"))\n",
       "[11] ((dim=5|id=420|\"Link,l=10\"), (dim=2|id=888|\"S=1/2,Site,n=11\"), (dim=5|id=501|\"Link,l=11\"))\n",
       "[12] ((dim=5|id=501|\"Link,l=11\"), (dim=2|id=603|\"S=1/2,Site,n=12\"), (dim=5|id=388|\"Link,l=12\"))\n",
       "[13] ((dim=5|id=388|\"Link,l=12\"), (dim=2|id=734|\"S=1/2,Site,n=13\"), (dim=4|id=115|\"Link,l=13\"))\n",
       "[14] ((dim=4|id=115|\"Link,l=13\"), (dim=2|id=539|\"S=1/2,Site,n=14\"), (dim=2|id=927|\"Link,l=14\"))\n",
       "[15] ((dim=2|id=927|\"Link,l=14\"), (dim=2|id=906|\"S=1/2,Site,n=15\"))\n"
      ]
     },
     "execution_count": 158,
     "metadata": {},
     "output_type": "execute_result"
    }
   ],
   "source": [
    "#Number of spin 1/2 sites\n",
    "N = 15\n",
    "\n",
    "#fnal time\n",
    "tf = 2.0\n",
    "#time step\n",
    "tau = 0.01\n",
    "\n",
    "\n",
    "s = siteinds(\"S=1/2\", N)\n",
    "\n",
    "os = OpSum()\n",
    "for j in 1:(N - 1)\n",
    "    os += 0.5, \"S+\", j, \"S-\", j + 1\n",
    "    os += 0.5, \"S-\", j, \"S+\", j + 1\n",
    "    os += \"Sz\", j, \"Sz\", j + 1\n",
    "end\n",
    "\n",
    "H = MPO(os, s)\n",
    "#ψ = productMPS(s, n -> isodd(n) ? \"Up\" : \"Dn\")\n",
    "ψ=randomMPS(s; linkdims=5)\n",
    "#psi = productMPS(s, n -> isodd(n) ? \"Up\" : \"Dn\")\n",
    "\n",
    "\n",
    "for j=1:N\n",
    "    println(\"site : \",j,\" \",measure_Sz(ψ,j))\n",
    "end\n",
    "\n",
    "ψ4 = deepcopy(ψ)\n",
    "ψ5 = deepcopy(ψ)"
   ]
  },
  {
   "cell_type": "code",
   "execution_count": 159,
   "id": "7766d512",
   "metadata": {
    "ExecuteTime": {
     "end_time": "2022-06-22T23:53:07.620000+05:30",
     "start_time": "2022-06-22T18:22:40.496Z"
    }
   },
   "outputs": [
    {
     "name": "stdout",
     "output_type": "stream",
     "text": [
      "site : 1 -0.12186520838536641\n",
      "site : 2 -0.10747737877670228\n",
      "site : 3 -0.09631854508018667\n",
      "site : 4 -0.07631224057035207\n",
      "site : 5 -0.11309653257711758\n",
      "site : 6 -0.043958542776634885\n",
      "site : 7 -0.049817940258400105\n",
      "site : 8 -0.11457603859340465\n",
      "site : 9 -0.0893668218615285\n",
      "site : 10 0.022111963964637434\n",
      "site : 11 0.05171387669679688\n",
      "site : 12 0.08597423244356421\n",
      "site : 13 -0.030287720195226887\n",
      "site : 14 -0.021749937721700925\n",
      "site : 15 -0.03308536559424055\n"
     ]
    }
   ],
   "source": [
    "ψ1 = deepcopy(ψ)\n",
    "#1-site TDVP\n",
    "tdvp!(ψ1,H,tau,tf,1,true,exp_tol=1e-15)\n",
    "\n",
    "#Calculate magnetisation at all sites.\n",
    "for j=1:N\n",
    "    println(\"site : \",j,\" \",measure_Sz(ψ1,j))\n",
    "end\n",
    "\n"
   ]
  },
  {
   "cell_type": "code",
   "execution_count": 160,
   "id": "0b13abda",
   "metadata": {
    "ExecuteTime": {
     "end_time": "2022-06-23T00:01:19.059000+05:30",
     "start_time": "2022-06-22T18:25:55.998Z"
    },
    "scrolled": true
   },
   "outputs": [
    {
     "name": "stdout",
     "output_type": "stream",
     "text": [
      "site : 1 -0.12472815733198064\n",
      "site : 2 -0.09711222562747984\n",
      "site : 3 -0.10429632756107682\n",
      "site : 4 -0.08243108833286344\n",
      "site : 5 -0.07008844374661334\n",
      "site : 6 -0.06914980642520122\n",
      "site : 7 -0.0899591537856311\n",
      "site : 8 -0.08157910939940896\n",
      "site : 9 -0.05330228340177728\n",
      "site : 10 0.012926435815646132\n",
      "site : 11 0.037201800963558636\n",
      "site : 12 0.01969330794410301\n",
      "site : 13 0.012991485200996175\n",
      "site : 14 -0.022463422615526932\n",
      "site : 15 -0.02581395636066075\n"
     ]
    }
   ],
   "source": [
    "ψ2 = deepcopy(ψ)\n",
    "\n",
    "#2-site TDVP\n",
    "tdvp!(ψ2,H,tau,tf,2,true,exp_tol=1e-15)\n",
    "\n",
    "#Calculate magnetisation at all sites.\n",
    "\n",
    "for j=1:N\n",
    "    println(\"site : \",j,\" \",measure_Sz(ψ2,j))\n",
    "end\n",
    "\n"
   ]
  },
  {
   "cell_type": "code",
   "execution_count": 161,
   "id": "c5f0a3f8",
   "metadata": {
    "ExecuteTime": {
     "end_time": "2022-06-23T00:03:58.479000+05:30",
     "start_time": "2022-06-22T18:33:45.936Z"
    }
   },
   "outputs": [
    {
     "name": "stdout",
     "output_type": "stream",
     "text": [
      "site : 1 -0.12472746998474607\n",
      "site : 2 -0.09711303394660692\n",
      "site : 3 -0.10429631714523128\n",
      "site : 4 -0.08243125248312269\n",
      "site : 5 -0.07008809909475353\n",
      "site : 6 -0.06914938711449707\n",
      "site : 7 -0.08995963411739154\n",
      "site : 8 -0.08157922077903679\n",
      "site : 9 -0.053302774136669326\n",
      "site : 10 0.012926937796822682\n",
      "site : 11 0.03720240779502107\n",
      "site : 12 0.019693196740163454\n",
      "site : 13 0.012990809437348455\n",
      "site : 14 -0.02246363471112338\n",
      "site : 15 -0.025813472932186998\n"
     ]
    }
   ],
   "source": [
    "#TEBD\n",
    "ψ3 = deepcopy(ψ)\n",
    "cutoff = 1e-15\n",
    "\n",
    "\n",
    "ttotal = tf\n",
    "\n",
    "\n",
    "# Make gates (1,2),(2,3),(3,4),...\n",
    "gates = ITensor[]\n",
    "for j in 1:(N - 1)\n",
    "s1 = s[j]\n",
    "s2 = s[j + 1]\n",
    "hj =\n",
    "  op(\"Sz\", s1) * op(\"Sz\", s2) +\n",
    "  1 / 2 * op(\"S+\", s1) * op(\"S-\", s2) +\n",
    "  1 / 2 * op(\"S-\", s1) * op(\"S+\", s2)\n",
    "Gj = exp(-im * tau / 2 * hj)\n",
    "push!(gates, Gj)\n",
    "end\n",
    "# Include gates in reverse order too\n",
    "# (N,N-1),(N-1,N-2),...\n",
    "append!(gates, reverse(gates))\n",
    "c=div(N,2)\n",
    "\n",
    "for t in 0.0:tau:ttotal\n",
    "    Sz = expect(ψ3, \"Sz\"; sites=c)\n",
    "    #println(\"$t $Sz\")\n",
    "\n",
    "    t≈ttotal && break\n",
    "\n",
    "    ψ3 = apply(gates, ψ3; cutoff)\n",
    "    normalize!(ψ3)\n",
    "end\n",
    "\n",
    "\n",
    "#Measure magnetisation at each site\n",
    "for j=1:N\n",
    "    println(\"site : \",j,\" \",measure_Sz(ψ3,j))\n",
    "end\n",
    "\n",
    "\n"
   ]
  },
  {
   "cell_type": "code",
   "execution_count": 162,
   "id": "dc8b128f",
   "metadata": {
    "ExecuteTime": {
     "end_time": "2022-06-23T00:04:15.578000+05:30",
     "start_time": "2022-06-22T18:34:15.572Z"
    }
   },
   "outputs": [
    {
     "name": "stdout",
     "output_type": "stream",
     "text": [
      "0.5616074771663103 + 0.012827060292880856im\n"
     ]
    }
   ],
   "source": [
    "#1-site TDVP & 2-site TDVP\n",
    "println(inner(ψ1,ψ2))"
   ]
  },
  {
   "cell_type": "code",
   "execution_count": 163,
   "id": "abbeb1be",
   "metadata": {
    "ExecuteTime": {
     "end_time": "2022-06-23T00:04:17.020000+05:30",
     "start_time": "2022-06-22T18:34:17.017Z"
    }
   },
   "outputs": [
    {
     "name": "stdout",
     "output_type": "stream",
     "text": [
      "0.5616087905888005 + 0.012828874601906935im\n"
     ]
    }
   ],
   "source": [
    "#1-site TDVP & TEBD\n",
    "\n",
    "println(inner(ψ1,ψ3))"
   ]
  },
  {
   "cell_type": "code",
   "execution_count": 164,
   "id": "c564088d",
   "metadata": {
    "ExecuteTime": {
     "end_time": "2022-06-23T00:04:18.079000+05:30",
     "start_time": "2022-06-22T18:34:18.071Z"
    }
   },
   "outputs": [
    {
     "name": "stdout",
     "output_type": "stream",
     "text": [
      "0.9999999998722828 + 1.9849070761988885e-6im\n"
     ]
    }
   ],
   "source": [
    "#2-site TDVP & TEBD\n",
    "println(inner(ψ2,ψ3))"
   ]
  },
  {
   "cell_type": "code",
   "execution_count": 167,
   "id": "c2e61db4",
   "metadata": {
    "ExecuteTime": {
     "end_time": "2022-06-23T00:04:57.465000+05:30",
     "start_time": "2022-06-22T18:34:57.463Z"
    }
   },
   "outputs": [
    {
     "name": "stdout",
     "output_type": "stream",
     "text": [
      "MPS\n",
      "[1] ((dim=2|id=304|\"S=1/2,Site,n=1\"), (dim=2|id=651|\"Link,n=1\"))\n",
      "[2] ((dim=2|id=651|\"Link,n=1\"), (dim=2|id=369|\"S=1/2,Site,n=2\"), (dim=4|id=37|\"Link,n=1\"))\n",
      "[3] ((dim=2|id=444|\"S=1/2,Site,n=3\"), (dim=8|id=852|\"Link,n=1\"), (dim=4|id=37|\"Link,n=1\"))\n",
      "[4] ((dim=2|id=134|\"S=1/2,Site,n=4\"), (dim=16|id=960|\"Link,n=1\"), (dim=8|id=852|\"Link,n=1\"))\n",
      "[5] ((dim=2|id=998|\"S=1/2,Site,n=5\"), (dim=32|id=143|\"Link,n=1\"), (dim=16|id=960|\"Link,n=1\"))\n",
      "[6] ((dim=2|id=634|\"S=1/2,Site,n=6\"), (dim=64|id=267|\"Link,n=1\"), (dim=32|id=143|\"Link,n=1\"))\n",
      "[7] ((dim=2|id=772|\"S=1/2,Site,n=7\"), (dim=97|id=715|\"Link,n=1\"), (dim=64|id=267|\"Link,n=1\"))\n",
      "[8] ((dim=2|id=531|\"S=1/2,Site,n=8\"), (dim=98|id=606|\"Link,n=1\"), (dim=97|id=715|\"Link,n=1\"))\n",
      "[9] ((dim=2|id=433|\"S=1/2,Site,n=9\"), (dim=64|id=493|\"Link,n=1\"), (dim=98|id=606|\"Link,n=1\"))\n",
      "[10] ((dim=2|id=363|\"S=1/2,Site,n=10\"), (dim=32|id=879|\"Link,n=1\"), (dim=64|id=493|\"Link,n=1\"))\n",
      "[11] ((dim=2|id=888|\"S=1/2,Site,n=11\"), (dim=16|id=242|\"Link,n=1\"), (dim=32|id=879|\"Link,n=1\"))\n",
      "[12] ((dim=2|id=603|\"S=1/2,Site,n=12\"), (dim=8|id=505|\"Link,n=1\"), (dim=16|id=242|\"Link,n=1\"))\n",
      "[13] ((dim=2|id=734|\"S=1/2,Site,n=13\"), (dim=4|id=353|\"Link,n=1\"), (dim=8|id=505|\"Link,n=1\"))\n",
      "[14] ((dim=2|id=539|\"S=1/2,Site,n=14\"), (dim=2|id=396|\"Link,n=1\"), (dim=4|id=353|\"Link,n=1\"))\n",
      "[15] ((dim=2|id=906|\"S=1/2,Site,n=15\"), (dim=2|id=396|\"Link,n=1\"))\n",
      "\n"
     ]
    }
   ],
   "source": [
    "println(ψ3)"
   ]
  },
  {
   "cell_type": "markdown",
   "id": "91fb0a6c",
   "metadata": {},
   "source": [
    "# TDVP codes from ITensorTDVP.jl"
   ]
  },
  {
   "cell_type": "code",
   "execution_count": 176,
   "id": "3b627aa8",
   "metadata": {
    "ExecuteTime": {
     "end_time": "2022-06-23T00:19:10.712000+05:30",
     "start_time": "2022-06-22T18:49:07.364Z"
    }
   },
   "outputs": [
    {
     "name": "stdout",
     "output_type": "stream",
     "text": [
      "site : 1 Sz -0.12186521031546105\n",
      "site : 2 Sz -0.10747737947063883\n",
      "site : 3 Sz -0.09631854235718655\n",
      "site : 4 Sz -0.07631223623822611\n",
      "site : 5 Sz -0.11309652982991449\n",
      "site : 6 Sz -0.04395853911416635\n",
      "site : 7 Sz -0.04981793650295997\n",
      "site : 8 Sz -0.1145760367126679\n",
      "site : 9 Sz -0.08936681865551482\n",
      "site : 10 Sz 0.022111965984734284\n",
      "site : 11 Sz 0.051713879031122234\n",
      "site : 12 Sz 0.08597423305758674\n",
      "site : 13 Sz -0.03028771981756148\n",
      "site : 14 Sz -0.021749938922621732\n",
      "site : 15 Sz -0.03308536498814564\n"
     ]
    }
   ],
   "source": [
    "ψ4 = deepcopy(ψ)\n",
    "\n",
    "\n",
    "ψ4 = tdvp(\n",
    "  H,\n",
    "  -0.01*im,\n",
    "  ψ4;\n",
    "  nsweeps=200,\n",
    "  nsite=1,\n",
    "  reverse_step=true,\n",
    "  normalize=true,\n",
    "  maxdim=30,\n",
    "  cutoff=1e-15,\n",
    "  outputlevel=0,\n",
    ") \n",
    "\n",
    "\n",
    "for j=1:length(ψ4)\n",
    "    println(\"site : \",j,\" Sz \",measure_Sz(ψ4,j))\n",
    "end"
   ]
  },
  {
   "cell_type": "code",
   "execution_count": 179,
   "id": "64b8a1d2",
   "metadata": {
    "ExecuteTime": {
     "end_time": "2022-06-23T00:23:40.533000+05:30",
     "start_time": "2022-06-22T18:53:18.409Z"
    }
   },
   "outputs": [
    {
     "name": "stdout",
     "output_type": "stream",
     "text": [
      "site : 1 Sz -0.12472816890903118\n",
      "site : 2 Sz -0.09711222416104426\n",
      "site : 3 Sz -0.10429632241331464\n",
      "site : 4 Sz -0.08243105280016633\n",
      "site : 5 Sz -0.07008837946947452\n",
      "site : 6 Sz -0.0691514078708836\n",
      "site : 7 Sz -0.08995781122679544\n",
      "site : 8 Sz -0.08157929961662719\n",
      "site : 9 Sz -0.05330424078001739\n",
      "site : 10 Sz 0.01293045466705896\n",
      "site : 11 Sz 0.03719986947260446\n",
      "site : 12 Sz 0.019693418567325205\n",
      "site : 13 Sz 0.012991503930719336\n",
      "site : 14 Sz -0.022463437499704225\n",
      "site : 15 Sz -0.02581395381280374\n"
     ]
    }
   ],
   "source": [
    "ψ5 = deepcopy(ψ)\n",
    "\n",
    "\n",
    "ψ5 = tdvp(\n",
    "  H,\n",
    "  -0.01*im,\n",
    "  ψ5;\n",
    "  nsweeps=200,\n",
    "  nsite=2,\n",
    "  reverse_step=true,\n",
    "  normalize=true,\n",
    "  maxdim=30,\n",
    "  cutoff=1e-15,\n",
    "  outputlevel=0,\n",
    ") \n",
    "\n",
    "\n",
    "for j=1:length(ψ5)\n",
    "    println(\"site : \",j,\" Sz \",measure_Sz(ψ5,j))\n",
    "end"
   ]
  },
  {
   "cell_type": "code",
   "execution_count": null,
   "id": "b8af0f54",
   "metadata": {},
   "outputs": [],
   "source": []
  }
 ],
 "metadata": {
  "kernelspec": {
   "display_name": "Julia 1.7.2",
   "language": "julia",
   "name": "julia-1.7"
  },
  "language_info": {
   "file_extension": ".jl",
   "mimetype": "application/julia",
   "name": "julia",
   "version": "1.7.2"
  }
 },
 "nbformat": 4,
 "nbformat_minor": 5
}
