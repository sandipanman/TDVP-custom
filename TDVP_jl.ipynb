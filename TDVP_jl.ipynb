{
 "cells": [
  {
   "cell_type": "code",
   "execution_count": 11,
   "id": "212982ad",
   "metadata": {
    "ExecuteTime": {
     "end_time": "2022-06-22T20:28:59.791000+05:30",
     "start_time": "2022-06-22T14:58:59.788Z"
    }
   },
   "outputs": [],
   "source": [
    "\n",
    "using ITensors\n",
    "using ITensors: position!\n",
    "#using ITensorTDVP\n",
    "using KrylovKit\n",
    "using Printf\n",
    "#using ProgressMeter\n",
    "#ProgressMeter.ijulia_behavior(:append)"
   ]
  },
  {
   "cell_type": "markdown",
   "id": "02311b0f",
   "metadata": {},
   "source": [
    "# Simple TDVP\n",
    "\n",
    "Below is a code for a simple TDVP implementation (both for 1-site & 2-site variant). This is based on the ITensorTDVP. The function tdvp! takes the folllowing arguments.\n",
    "\n",
    "**Initial wavefunction** <br>\n",
    "**Hamiltonian :** (in MPO form) to time evolve the wave function<br>\n",
    "**dt(time step)** <br>\n",
    "**tf(final time )** : time upto which you want to evolve the system)<br>\n",
    "**reverse_step_val :** Decides whether you need the right-to-left swap (Changes the accuracy O(dt^3) for true,O(dt^2) for no)\n",
    "\n",
    "Time is entered as real for time evolution. The i is multiplied internally."
   ]
  },
  {
   "cell_type": "code",
   "execution_count": 12,
   "id": "1cbcce98",
   "metadata": {
    "ExecuteTime": {
     "end_time": "2022-06-22T20:29:00.941000+05:30",
     "start_time": "2022-06-22T14:59:00.902Z"
    }
   },
   "outputs": [
    {
     "data": {
      "text/plain": [
       "tdvp! (generic function with 1 method)"
      ]
     },
     "execution_count": 12,
     "metadata": {},
     "output_type": "execute_result"
    }
   ],
   "source": [
    "struct TDVP end\n",
    "set_nsite!(PH::ProjMPO,nsite) = (PH.nsite = nsite)\n",
    "\n",
    "function solver(H, t, psi0; kwargs...)\n",
    "    solver_kwargs = (;\n",
    "      ishermitian=get(kwargs, :ishermitian, true),\n",
    "      issymmetric=get(kwargs, :issymmetric, true),\n",
    "      tol=get(kwargs, :solver_tol, 1E-12),\n",
    "      krylovdim=get(kwargs, :solver_krylovdim, 30),\n",
    "      maxiter=get(kwargs, :solver_maxiter, 100),\n",
    "      verbosity=get(kwargs, :solver_outputlevel, 0),\n",
    "      eager=true,\n",
    "    )\n",
    "    psi, info = exponentiate(H, t, psi0; solver_kwargs...)\n",
    "    return psi, info\n",
    "end\n",
    "\n",
    "function measure_Sz(psi,n)\n",
    "    psi = ITensors.orthogonalize(psi,n)\n",
    "    sn = siteind(psi,n)\n",
    "    Sz = scalar(dag(prime(psi[n],\"Site\"))*op(\"Sz\",sn)*psi[n])\n",
    "    return real(Sz)\n",
    "end\n",
    "\n",
    "\n",
    "function tdvp!(ψ::MPS,H::MPO,dt::Float64,tf::Float64,nsite::Int64,reverse_step_val; kwargs...)\n",
    "    \n",
    "    num_time_steps = Int(tf/dt)\n",
    "    \n",
    "    #kwargs\n",
    "   \n",
    "    #The error tolerance for `KrylovKit.exponentiate`\n",
    "    exp_tol = get(kwargs,:exp_tol, 1e-14)\n",
    "    #Passed to KrylovKit\n",
    "    krylovdim = get(kwargs,:krylovdim, 30 )\n",
    "    maxiter = get(kwargs,:maxiter,100)\n",
    "    normalize = get(kwargs,:normalize,true)\n",
    "    #Is the Hamiltonian H hermitian? Useful to KrylovKit for exponentiation\n",
    "    hermitian = get(kwargs,:hermitian,true)\n",
    "    \n",
    "    maxdim::Integer = get(kwargs, :maxdim, typemax(Int))\n",
    "    mindim::Integer = get(kwargs, :mindim, 1)\n",
    "    cutoff::Real = get(kwargs, :cutoff, 1E-16)\n",
    "    \n",
    "    #If progress bar is used\n",
    "    #pbar = get(kwargs,:progress, true) ? Progress(num_time_steps, desc=\"Evolving state... \") : nothing\n",
    "    \n",
    "   #Imaginary time step\n",
    "    τ = 1im*dt\n",
    "    \n",
    "    N = length(ψ)\n",
    "    #start with right orthogonalised wave function\n",
    "    ITensors.orthogonalize!(ψ,1)\n",
    "    \n",
    "    #Projected MPO\n",
    "    #https://docs.juliahub.com/ITensors/P3pqL/0.1.7/ProjMPO.html\n",
    "    \n",
    "    PH = ProjMPO(H)\n",
    "    position!(PH,ψ,1)\n",
    "    \n",
    "    \n",
    "    \n",
    "    set_nsite!(PH, nsite)\n",
    "    \n",
    "    \n",
    "    maxtruncerr = 0.0\n",
    "    \n",
    "    \n",
    "    #Do the time evolution\n",
    "    for time_step in 1:num_time_steps\n",
    "        stime  = @elapsed begin\n",
    "        # b is the active site  ha gives 1/2 depending on right/left swap\n",
    "        current_time = dt*time_step\n",
    "        for (b,ha) in sweepnext(N; ncenter=nsite)\n",
    "                # Do 'forwards' evolution step\n",
    "                \n",
    "                \n",
    "                set_nsite!(PH, nsite)\n",
    "                #orthogonalise at position b\n",
    "                \n",
    "                position!(PH, ψ, b)\n",
    "                if nsite == 1\n",
    "                  #println(\" Forward phi1 Selected\")\n",
    "                  phi1 = ψ[b]\n",
    "                elseif nsite == 2\n",
    "                  phi1 = ψ[b] * ψ[b + 1]\n",
    "                end\n",
    "\n",
    "                \n",
    "                #orthogonalise at position b\n",
    "                \n",
    "                #phi1, info = exponentiate(PH, -τ/2, phi1; ishermitian=hermitian , tol=exp_tol, krylovdim=krylovdim)\n",
    "                phi1, info = solver(PH, -τ/2, phi1)\n",
    "                info.converged==0 && throw(\"exponentiate did not converge\")\n",
    "                \n",
    "                spec = nothing\n",
    "                \n",
    "                \n",
    "                if nsite == 1\n",
    "                  ψ[b] = phi1\n",
    "                  Sz = measure_Sz(ψ,b) \n",
    "                  #@printf(\"Sweep %d,  Sz %f ----------------------------\\n\", time_step , Sz)\n",
    "                  flush(stdout)\n",
    "                  #println(\" Forward phi1 Replaced\")\n",
    "                elseif nsite == 2\n",
    "                  #Determine sweep direction\n",
    "                  dir = ha == 1 ? \"left\" : \"right\"\n",
    "                  spec = replacebond!(ψ,b,phi1;mindim,cutoff,normalize=normalize, ortho = dir, kwargs... )\n",
    "                  maxtruncerr = max(maxtruncerr, spec.truncerr)\n",
    "                end\n",
    "                \n",
    "                if(reverse_step_val == true)\n",
    "                    if ((ha == 1 && (b + nsite - 1 != N)) || (ha == 2 && b != 1))\n",
    "\n",
    "\n",
    "                        b1 = (ha==1 ? b + 1 : b)\n",
    "                        Δ = (ha==1 ? +1 : -1)\n",
    "\n",
    "                        if nsite == 2\n",
    "                            phi0 = ψ[b1]\n",
    "                        elseif nsite == 1\n",
    "                            #println(\" SVD\")\n",
    "                            uinds = uniqueinds(phi1, ψ[b + Δ])\n",
    "                            U, S, V = svd(phi1, uinds)\n",
    "                            ψ[b] = U\n",
    "                            phi0 = S * V\n",
    "                            if ha == 1\n",
    "                              ITensors.setleftlim!(ψ, b)\n",
    "                            elseif ha == 2\n",
    "                              ITensors.setrightlim!(ψ, b)\n",
    "                            end\n",
    "                        end\n",
    "\n",
    "                        # evolve with single-site Hamiltonian backward in time.\n",
    "                        # In the case of imaginary time-evolution this step\n",
    "                        # is not necessary (see Ref. [1])\n",
    "\n",
    "\n",
    "\n",
    "\n",
    "                        set_nsite!(PH, nsite - 1)\n",
    "                        ITensors.position!(PH, ψ, b1)\n",
    "                        phi0, info = exponentiate(PH, τ/2, phi0; ishermitian=hermitian , tol=exp_tol, krylovdim=krylovdim)\n",
    "                        normalize && (phi0 ./= norm(phi0))\n",
    "                        info.converged==0 && throw(\"exponentiate did not converge\")\n",
    "\n",
    "\n",
    "                        if nsite == 2\n",
    "                            ψ[b1] = phi0\n",
    "                            #print(\" Reverse phi  calculated\")\n",
    "                        elseif nsite == 1\n",
    "                            #println(\" Reverse phi  calculated\")\n",
    "                            ψ[b + Δ] = phi0 * ψ[b + Δ]\n",
    "                            if ha == 1\n",
    "                              ITensors.setrightlim!(ψ, b + Δ + 1)\n",
    "                            elseif ha == 2\n",
    "                              ITensors.setleftlim!(ψ, b + Δ - 1)\n",
    "                            end\n",
    "                        end\n",
    "\n",
    "                        set_nsite!(PH, nsite)\n",
    "\n",
    "\n",
    "\n",
    "                    end\n",
    "                    #if ((ha == 1 && (b + nsite - 1 != N)) || (ha == 2 && b != 1))\n",
    "                end\n",
    "                #for if(reverse_step_val == true)\n",
    "        end\n",
    "        #for(b,ha)\n",
    "            \n",
    "            #Sz = measure_Sz(ψ,5) \n",
    "            #@printf(\"Sweep %d,  Sz %f ----------------------------\\n\", time_step , Sz)\n",
    "            flush(stdout)\n",
    "\n",
    "        \n",
    "        end\n",
    "        #time elapsed\n",
    "        \n",
    "        \n",
    "       \n",
    "        \n",
    "    end\n",
    "    #External for loop for time_step\n",
    "    \n",
    "    ψ=ψ/norm(ψ)\n",
    "end\n",
    "#function\n"
   ]
  },
  {
   "cell_type": "code",
   "execution_count": 13,
   "id": "b16c1ec4",
   "metadata": {
    "ExecuteTime": {
     "end_time": "2022-06-22T20:29:04.160000+05:30",
     "start_time": "2022-06-22T14:59:02.287Z"
    },
    "scrolled": true
   },
   "outputs": [
    {
     "name": "stdout",
     "output_type": "stream",
     "text": [
      "site : 1 0.2386134273978999\n",
      "site : 2 -0.05119517564342503\n",
      "site : 3 0.22737207953409858\n",
      "site : 4 0.15806396061647587\n",
      "site : 5 0.08394746188903343\n"
     ]
    },
    {
     "data": {
      "text/plain": [
       "MPS\n",
       "[1] ((dim=2|id=610|\"S=1/2,Site,n=1\"), (dim=5|id=322|\"Link,l=1\"))\n",
       "[2] ((dim=5|id=322|\"Link,l=1\"), (dim=2|id=526|\"S=1/2,Site,n=2\"), (dim=5|id=989|\"Link,l=2\"))\n",
       "[3] ((dim=5|id=989|\"Link,l=2\"), (dim=2|id=941|\"S=1/2,Site,n=3\"), (dim=4|id=681|\"Link,l=3\"))\n",
       "[4] ((dim=4|id=681|\"Link,l=3\"), (dim=2|id=3|\"S=1/2,Site,n=4\"), (dim=2|id=952|\"Link,l=4\"))\n",
       "[5] ((dim=2|id=952|\"Link,l=4\"), (dim=2|id=564|\"S=1/2,Site,n=5\"))\n"
      ]
     },
     "execution_count": 13,
     "metadata": {},
     "output_type": "execute_result"
    }
   ],
   "source": [
    "N = 5\n",
    "\n",
    "s = siteinds(\"S=1/2\", N)\n",
    "\n",
    "os = OpSum()\n",
    "for j in 1:(N - 1)\n",
    "    os += 0.5, \"S+\", j, \"S-\", j + 1\n",
    "    os += 0.5, \"S-\", j, \"S+\", j + 1\n",
    "    os += \"Sz\", j, \"Sz\", j + 1\n",
    "end\n",
    "\n",
    "H = MPO(os, s)\n",
    "#ψ = productMPS(s, n -> isodd(n) ? \"Up\" : \"Dn\")\n",
    "ψ=randomMPS(s; linkdims=5)\n",
    "#psi = productMPS(s, n -> isodd(n) ? \"Up\" : \"Dn\")\n",
    "\n",
    "\n",
    "for j=1:N\n",
    "    println(\"site : \",j,\" \",measure_Sz(ψ,j))\n",
    "end\n",
    "\n",
    "ψ4 = deepcopy(ψ)\n",
    "ψ5 = deepcopy(ψ)"
   ]
  },
  {
   "cell_type": "code",
   "execution_count": 14,
   "id": "7766d512",
   "metadata": {
    "ExecuteTime": {
     "end_time": "2022-06-22T20:29:29.184000+05:30",
     "start_time": "2022-06-22T14:59:05.873Z"
    }
   },
   "outputs": [
    {
     "name": "stdout",
     "output_type": "stream",
     "text": [
      "site : 1 0.21236707237566416\n",
      "site : 2 -0.005802955189429249\n",
      "site : 3 0.20524095594274205\n",
      "site : 4 0.1712134493537829\n",
      "site : 5 0.07378323131134688\n"
     ]
    }
   ],
   "source": [
    "ψ1 = deepcopy(ψ)\n",
    "#2-site TDVP\n",
    "tdvp!(ψ1,H,0.05,0.5,2,true,exp_tol=1e-15)\n",
    "\n",
    "#Calculate magnetisation at all sites.\n",
    "for j=1:N\n",
    "    println(\"site : \",j,\" \",measure_Sz(ψ1,j))\n",
    "end\n",
    "\n"
   ]
  },
  {
   "cell_type": "code",
   "execution_count": 15,
   "id": "0b13abda",
   "metadata": {
    "ExecuteTime": {
     "end_time": "2022-06-22T20:29:44.839000+05:30",
     "start_time": "2022-06-22T14:59:42.117Z"
    },
    "scrolled": true
   },
   "outputs": [
    {
     "name": "stdout",
     "output_type": "stream",
     "text": [
      "site : 1 0.23426765026211294\n",
      "site : 2 -0.043558234889115546\n",
      "site : 3 0.22354079056896745\n",
      "site : 4 0.1602923904594015\n",
      "site : 5 0.08225915739271991\n"
     ]
    }
   ],
   "source": [
    "ψ2 = deepcopy(ψ)\n",
    "\n",
    "#1-site TDVP\n",
    "tdvp!(ψ2,H,0.05,0.2,1,true,exp_tol=1e-15)\n",
    "\n",
    "#Calculate magnetisation at all sites.\n",
    "\n",
    "for j=1:N\n",
    "    println(\"site : \",j,\" \",measure_Sz(ψ2,j))\n",
    "end\n",
    "\n"
   ]
  },
  {
   "cell_type": "code",
   "execution_count": 17,
   "id": "6bf39dcb",
   "metadata": {
    "ExecuteTime": {
     "end_time": "2022-06-22T20:30:17.215000+05:30",
     "start_time": "2022-06-22T15:00:16.974Z"
    }
   },
   "outputs": [
    {
     "name": "stdout",
     "output_type": "stream",
     "text": [
      "site : 1 0.00534246424312276\n",
      "site : 2 0.25388863757375435\n",
      "site : 3 0.1657883707830905\n",
      "site : 4 0.23146204681032553\n",
      "site : 5 0.0003202343837784838\n"
     ]
    }
   ],
   "source": [
    "#TEBD\n",
    "ψ3 = deepcopy(ψ)\n",
    "cutoff = 1e-15\n",
    "\n",
    "tau = 0.05\n",
    "ttotal = 2.0\n",
    "\n",
    "\n",
    "# Make gates (1,2),(2,3),(3,4),...\n",
    "gates = ITensor[]\n",
    "for j in 1:(N - 1)\n",
    "s1 = s[j]\n",
    "s2 = s[j + 1]\n",
    "hj =\n",
    "  op(\"Sz\", s1) * op(\"Sz\", s2) +\n",
    "  1 / 2 * op(\"S+\", s1) * op(\"S-\", s2) +\n",
    "  1 / 2 * op(\"S-\", s1) * op(\"S+\", s2)\n",
    "Gj = exp(-im * tau / 2 * hj)\n",
    "push!(gates, Gj)\n",
    "end\n",
    "# Include gates in reverse order too\n",
    "# (N,N-1),(N-1,N-2),...\n",
    "append!(gates, reverse(gates))\n",
    "c=div(N,2)\n",
    "\n",
    "for t in 0.0:tau:ttotal\n",
    "    Sz = expect(ψ3, \"Sz\"; sites=c)\n",
    "    #println(\"$t $Sz\")\n",
    "\n",
    "    t≈ttotal && break\n",
    "\n",
    "    ψ3 = apply(gates, ψ3; cutoff)\n",
    "    normalize!(ψ3)\n",
    "end\n",
    "\n",
    "\n",
    "#Measure magnetisation at each site\n",
    "for j=1:N\n",
    "    println(\"site : \",j,\" \",measure_Sz(ψ3,j))\n",
    "end\n",
    "\n"
   ]
  },
  {
   "cell_type": "code",
   "execution_count": 18,
   "id": "dc8b128f",
   "metadata": {
    "ExecuteTime": {
     "end_time": "2022-06-22T20:30:31.167000+05:30",
     "start_time": "2022-06-22T15:00:31.032Z"
    }
   },
   "outputs": [
    {
     "name": "stdout",
     "output_type": "stream",
     "text": [
      "0.9697486538198146 + 0.05667986403869342im\n"
     ]
    }
   ],
   "source": [
    "println(inner(ψ1,ψ2))"
   ]
  },
  {
   "cell_type": "code",
   "execution_count": 19,
   "id": "abbeb1be",
   "metadata": {
    "ExecuteTime": {
     "end_time": "2022-06-22T20:30:33.479000+05:30",
     "start_time": "2022-06-22T15:00:33.475Z"
    }
   },
   "outputs": [
    {
     "name": "stdout",
     "output_type": "stream",
     "text": [
      "0.36525005859403564 - 0.26072240902451255im\n"
     ]
    }
   ],
   "source": [
    "println(inner(ψ1,ψ3))"
   ]
  },
  {
   "cell_type": "code",
   "execution_count": 21,
   "id": "c564088d",
   "metadata": {
    "ExecuteTime": {
     "end_time": "2022-06-22T20:30:49.466000+05:30",
     "start_time": "2022-06-22T15:00:49.462Z"
    }
   },
   "outputs": [
    {
     "name": "stdout",
     "output_type": "stream",
     "text": [
      "0.15512012945220924 - 0.29311228823270186im\n"
     ]
    }
   ],
   "source": [
    "println(inner(ψ2,ψ3))"
   ]
  },
  {
   "cell_type": "code",
   "execution_count": 29,
   "id": "c2e61db4",
   "metadata": {
    "ExecuteTime": {
     "end_time": "2022-06-22T19:20:38.236000+05:30",
     "start_time": "2022-06-22T13:50:38.234Z"
    }
   },
   "outputs": [
    {
     "name": "stdout",
     "output_type": "stream",
     "text": [
      "MPS\n",
      "[1] ((dim=2|id=165|\"S=1/2,Site,n=1\"), (dim=5|id=166|\"Link,l=1\"))\n",
      "[2] ((dim=5|id=166|\"Link,l=1\"), (dim=2|id=920|\"S=1/2,Site,n=2\"), (dim=5|id=713|\"Link,l=2\"))\n",
      "[3] ((dim=5|id=713|\"Link,l=2\"), (dim=2|id=580|\"S=1/2,Site,n=3\"), (dim=4|id=667|\"Link,l=3\"))\n",
      "[4] ((dim=4|id=667|\"Link,l=3\"), (dim=2|id=984|\"S=1/2,Site,n=4\"), (dim=2|id=811|\"Link,l=4\"))\n",
      "[5] ((dim=2|id=811|\"Link,l=4\"), (dim=2|id=59|\"S=1/2,Site,n=5\"))\n",
      "\n"
     ]
    }
   ],
   "source": [
    "println(ψ3)"
   ]
  },
  {
   "cell_type": "code",
   "execution_count": null,
   "id": "3b627aa8",
   "metadata": {},
   "outputs": [],
   "source": []
  }
 ],
 "metadata": {
  "kernelspec": {
   "display_name": "Julia 1.7.2",
   "language": "julia",
   "name": "julia-1.7"
  },
  "language_info": {
   "file_extension": ".jl",
   "mimetype": "application/julia",
   "name": "julia",
   "version": "1.7.2"
  }
 },
 "nbformat": 4,
 "nbformat_minor": 5
}
