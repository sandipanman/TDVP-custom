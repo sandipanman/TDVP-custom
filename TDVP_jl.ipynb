{
 "cells": [
  {
   "cell_type": "code",
   "execution_count": 37,
   "id": "212982ad",
   "metadata": {
    "ExecuteTime": {
     "end_time": "2022-06-22T20:38:32.978000+05:30",
     "start_time": "2022-06-22T15:08:32.975Z"
    }
   },
   "outputs": [],
   "source": [
    "\n",
    "using ITensors\n",
    "using ITensors: position!\n",
    "using KrylovKit\n",
    "using Printf\n"
   ]
  },
  {
   "cell_type": "markdown",
   "id": "02311b0f",
   "metadata": {},
   "source": [
    "# Simple TDVP\n",
    "\n",
    "Below is a code for a simple TDVP implementation (both for 1-site & 2-site variant). This is based on the ITensorTDVP. The function tdvp! takes the folllowing arguments.\n",
    "\n",
    "**Initial wavefunction** <br>\n",
    "**Hamiltonian :** (in MPO form) to time evolve the wave function<br>\n",
    "**dt(time step)** <br>\n",
    "**tf(final time )** : time upto which you want to evolve the system)<br>\n",
    "**reverse_step_val :** Decides whether you need the right-to-left swap (Changes the accuracy O(dt^3) for true,O(dt^2) for no)\n",
    "\n",
    "Time is entered as real for time evolution. The i is multiplied internally."
   ]
  },
  {
   "cell_type": "code",
   "execution_count": 38,
   "id": "1cbcce98",
   "metadata": {
    "ExecuteTime": {
     "end_time": "2022-06-22T20:38:35.638000+05:30",
     "start_time": "2022-06-22T15:08:35.598Z"
    }
   },
   "outputs": [
    {
     "data": {
      "text/plain": [
       "tdvp! (generic function with 1 method)"
      ]
     },
     "execution_count": 38,
     "metadata": {},
     "output_type": "execute_result"
    }
   ],
   "source": [
    "struct TDVP end\n",
    "set_nsite!(PH::ProjMPO,nsite) = (PH.nsite = nsite)\n",
    "\n",
    "function solver(H, t, psi0; kwargs...)\n",
    "    solver_kwargs = (;\n",
    "      ishermitian=get(kwargs, :ishermitian, true),\n",
    "      issymmetric=get(kwargs, :issymmetric, true),\n",
    "      tol=get(kwargs, :solver_tol, 1E-12),\n",
    "      krylovdim=get(kwargs, :solver_krylovdim, 30),\n",
    "      maxiter=get(kwargs, :solver_maxiter, 100),\n",
    "      verbosity=get(kwargs, :solver_outputlevel, 0),\n",
    "      eager=true,\n",
    "    )\n",
    "    psi, info = exponentiate(H, t, psi0; solver_kwargs...)\n",
    "    return psi, info\n",
    "end\n",
    "\n",
    "function measure_Sz(psi,n)\n",
    "    psi = ITensors.orthogonalize(psi,n)\n",
    "    sn = siteind(psi,n)\n",
    "    Sz = scalar(dag(prime(psi[n],\"Site\"))*op(\"Sz\",sn)*psi[n])\n",
    "    return real(Sz)\n",
    "end\n",
    "\n",
    "\n",
    "function tdvp!(ψ::MPS,H::MPO,dt::Float64,tf::Float64,nsite::Int64,reverse_step_val; kwargs...)\n",
    "    \n",
    "    num_time_steps = Int(tf/dt)\n",
    "    \n",
    "    #kwargs\n",
    "   \n",
    "    #The error tolerance for `KrylovKit.exponentiate`\n",
    "    exp_tol = get(kwargs,:exp_tol, 1e-14)\n",
    "    #Passed to KrylovKit\n",
    "    krylovdim = get(kwargs,:krylovdim, 30 )\n",
    "    maxiter = get(kwargs,:maxiter,100)\n",
    "    normalize = get(kwargs,:normalize,true)\n",
    "    #Is the Hamiltonian H hermitian? Useful to KrylovKit for exponentiation\n",
    "    hermitian = get(kwargs,:hermitian,true)\n",
    "    \n",
    "    maxdim::Integer = get(kwargs, :maxdim, typemax(Int))\n",
    "    mindim::Integer = get(kwargs, :mindim, 1)\n",
    "    cutoff::Real = get(kwargs, :cutoff, 1E-16)\n",
    "    \n",
    "    #If progress bar is used\n",
    "    #pbar = get(kwargs,:progress, true) ? Progress(num_time_steps, desc=\"Evolving state... \") : nothing\n",
    "    \n",
    "   #Imaginary time step\n",
    "    τ = 1im*dt\n",
    "    \n",
    "    N = length(ψ)\n",
    "    #start with right orthogonalised wave function\n",
    "    ITensors.orthogonalize!(ψ,1)\n",
    "    \n",
    "    #Projected MPO\n",
    "    #https://docs.juliahub.com/ITensors/P3pqL/0.1.7/ProjMPO.html\n",
    "    \n",
    "    PH = ProjMPO(H)\n",
    "    position!(PH,ψ,1)\n",
    "    \n",
    "    \n",
    "    \n",
    "    set_nsite!(PH, nsite)\n",
    "    \n",
    "    \n",
    "    maxtruncerr = 0.0\n",
    "    \n",
    "    \n",
    "    #Do the time evolution\n",
    "    for time_step in 1:num_time_steps\n",
    "        stime  = @elapsed begin\n",
    "        # b is the active site  ha gives 1/2 depending on right/left swap\n",
    "        current_time = dt*time_step\n",
    "        for (b,ha) in sweepnext(N; ncenter=nsite)\n",
    "                # Do 'forwards' evolution step\n",
    "                \n",
    "                \n",
    "                set_nsite!(PH, nsite)\n",
    "                #orthogonalise at position b\n",
    "                \n",
    "                position!(PH, ψ, b)\n",
    "                if nsite == 1\n",
    "                  #println(\" Forward phi1 Selected\")\n",
    "                  phi1 = ψ[b]\n",
    "                elseif nsite == 2\n",
    "                  phi1 = ψ[b] * ψ[b + 1]\n",
    "                end\n",
    "\n",
    "                \n",
    "                #orthogonalise at position b\n",
    "                \n",
    "                #phi1, info = exponentiate(PH, -τ/2, phi1; ishermitian=hermitian , tol=exp_tol, krylovdim=krylovdim)\n",
    "                phi1, info = solver(PH, -τ/2, phi1)\n",
    "                info.converged==0 && throw(\"exponentiate did not converge\")\n",
    "                \n",
    "                spec = nothing\n",
    "                \n",
    "                \n",
    "                if nsite == 1\n",
    "                  ψ[b] = phi1\n",
    "                  Sz = measure_Sz(ψ,b) \n",
    "                  #@printf(\"Sweep %d,  Sz %f ----------------------------\\n\", time_step , Sz)\n",
    "                  flush(stdout)\n",
    "                  #println(\" Forward phi1 Replaced\")\n",
    "                elseif nsite == 2\n",
    "                  #Determine sweep direction\n",
    "                  dir = ha == 1 ? \"left\" : \"right\"\n",
    "                  spec = replacebond!(ψ,b,phi1;mindim,cutoff,normalize=normalize, ortho = dir, kwargs... )\n",
    "                  maxtruncerr = max(maxtruncerr, spec.truncerr)\n",
    "                end\n",
    "                \n",
    "                if(reverse_step_val == true)\n",
    "                    if ((ha == 1 && (b + nsite - 1 != N)) || (ha == 2 && b != 1))\n",
    "\n",
    "\n",
    "                        b1 = (ha==1 ? b + 1 : b)\n",
    "                        Δ = (ha==1 ? +1 : -1)\n",
    "\n",
    "                        if nsite == 2\n",
    "                            phi0 = ψ[b1]\n",
    "                        elseif nsite == 1\n",
    "                            #println(\" SVD\")\n",
    "                            uinds = uniqueinds(phi1, ψ[b + Δ])\n",
    "                            U, S, V = svd(phi1, uinds)\n",
    "                            ψ[b] = U\n",
    "                            phi0 = S * V\n",
    "                            if ha == 1\n",
    "                              ITensors.setleftlim!(ψ, b)\n",
    "                            elseif ha == 2\n",
    "                              ITensors.setrightlim!(ψ, b)\n",
    "                            end\n",
    "                        end\n",
    "\n",
    "                        # evolve with single-site Hamiltonian backward in time.\n",
    "                        # In the case of imaginary time-evolution this step\n",
    "                        # is not necessary (see Ref. [1])\n",
    "\n",
    "\n",
    "\n",
    "\n",
    "                        set_nsite!(PH, nsite - 1)\n",
    "                        ITensors.position!(PH, ψ, b1)\n",
    "                        phi0, info = exponentiate(PH, τ/2, phi0; ishermitian=hermitian , tol=exp_tol, krylovdim=krylovdim)\n",
    "                        normalize && (phi0 ./= norm(phi0))\n",
    "                        info.converged==0 && throw(\"exponentiate did not converge\")\n",
    "\n",
    "\n",
    "                        if nsite == 2\n",
    "                            ψ[b1] = phi0\n",
    "                            #print(\" Reverse phi  calculated\")\n",
    "                        elseif nsite == 1\n",
    "                            #println(\" Reverse phi  calculated\")\n",
    "                            ψ[b + Δ] = phi0 * ψ[b + Δ]\n",
    "                            if ha == 1\n",
    "                              ITensors.setrightlim!(ψ, b + Δ + 1)\n",
    "                            elseif ha == 2\n",
    "                              ITensors.setleftlim!(ψ, b + Δ - 1)\n",
    "                            end\n",
    "                        end\n",
    "\n",
    "                        set_nsite!(PH, nsite)\n",
    "\n",
    "\n",
    "\n",
    "                    end\n",
    "                    #if ((ha == 1 && (b + nsite - 1 != N)) || (ha == 2 && b != 1))\n",
    "                end\n",
    "                #for if(reverse_step_val == true)\n",
    "        end\n",
    "        #for(b,ha)\n",
    "            \n",
    "            #Sz = measure_Sz(ψ,5) \n",
    "            #@printf(\"Sweep %d,  Sz %f ----------------------------\\n\", time_step , Sz)\n",
    "            flush(stdout)\n",
    "\n",
    "        \n",
    "        end\n",
    "        #time elapsed\n",
    "        \n",
    "        \n",
    "       \n",
    "        \n",
    "    end\n",
    "    #External for loop for time_step\n",
    "    \n",
    "    ψ=ψ/norm(ψ)\n",
    "end\n",
    "#function\n"
   ]
  },
  {
   "cell_type": "code",
   "execution_count": 39,
   "id": "b16c1ec4",
   "metadata": {
    "ExecuteTime": {
     "end_time": "2022-06-22T20:38:36.933000+05:30",
     "start_time": "2022-06-22T15:08:36.841Z"
    },
    "scrolled": true
   },
   "outputs": [
    {
     "name": "stdout",
     "output_type": "stream",
     "text": [
      "site : 1 0.3991912861446832\n",
      "site : 2 0.0480564925294146\n",
      "site : 3 0.10021548352760482\n",
      "site : 4 0.12904717856524536\n",
      "site : 5 0.00933863284099043\n",
      "site : 6 0.1773015728875707\n",
      "site : 7 0.0008717935664211522\n",
      "site : 8 0.01610781339516705\n",
      "site : 9 -0.16288094958995686\n",
      "site : 10 0.021832349057765182\n"
     ]
    },
    {
     "data": {
      "text/plain": [
       "MPS\n",
       "[1] ((dim=2|id=512|\"S=1/2,Site,n=1\"), (dim=5|id=977|\"Link,l=1\"))\n",
       "[2] ((dim=5|id=977|\"Link,l=1\"), (dim=2|id=909|\"S=1/2,Site,n=2\"), (dim=5|id=578|\"Link,l=2\"))\n",
       "[3] ((dim=5|id=578|\"Link,l=2\"), (dim=2|id=548|\"S=1/2,Site,n=3\"), (dim=5|id=443|\"Link,l=3\"))\n",
       "[4] ((dim=5|id=443|\"Link,l=3\"), (dim=2|id=942|\"S=1/2,Site,n=4\"), (dim=5|id=153|\"Link,l=4\"))\n",
       "[5] ((dim=5|id=153|\"Link,l=4\"), (dim=2|id=163|\"S=1/2,Site,n=5\"), (dim=5|id=908|\"Link,l=5\"))\n",
       "[6] ((dim=5|id=908|\"Link,l=5\"), (dim=2|id=91|\"S=1/2,Site,n=6\"), (dim=5|id=558|\"Link,l=6\"))\n",
       "[7] ((dim=5|id=558|\"Link,l=6\"), (dim=2|id=259|\"S=1/2,Site,n=7\"), (dim=5|id=996|\"Link,l=7\"))\n",
       "[8] ((dim=5|id=996|\"Link,l=7\"), (dim=2|id=583|\"S=1/2,Site,n=8\"), (dim=4|id=98|\"Link,l=8\"))\n",
       "[9] ((dim=4|id=98|\"Link,l=8\"), (dim=2|id=324|\"S=1/2,Site,n=9\"), (dim=2|id=407|\"Link,l=9\"))\n",
       "[10] ((dim=2|id=407|\"Link,l=9\"), (dim=2|id=69|\"S=1/2,Site,n=10\"))\n"
      ]
     },
     "execution_count": 39,
     "metadata": {},
     "output_type": "execute_result"
    }
   ],
   "source": [
    "N = 10\n",
    "\n",
    "s = siteinds(\"S=1/2\", N)\n",
    "\n",
    "os = OpSum()\n",
    "for j in 1:(N - 1)\n",
    "    os += 0.5, \"S+\", j, \"S-\", j + 1\n",
    "    os += 0.5, \"S-\", j, \"S+\", j + 1\n",
    "    os += \"Sz\", j, \"Sz\", j + 1\n",
    "end\n",
    "\n",
    "H = MPO(os, s)\n",
    "#ψ = productMPS(s, n -> isodd(n) ? \"Up\" : \"Dn\")\n",
    "ψ=randomMPS(s; linkdims=5)\n",
    "#psi = productMPS(s, n -> isodd(n) ? \"Up\" : \"Dn\")\n",
    "\n",
    "\n",
    "for j=1:N\n",
    "    println(\"site : \",j,\" \",measure_Sz(ψ,j))\n",
    "end\n",
    "\n",
    "ψ4 = deepcopy(ψ)\n",
    "ψ5 = deepcopy(ψ)"
   ]
  },
  {
   "cell_type": "code",
   "execution_count": 40,
   "id": "7766d512",
   "metadata": {
    "ExecuteTime": {
     "end_time": "2022-06-22T20:38:42.594000+05:30",
     "start_time": "2022-06-22T15:08:40.342Z"
    }
   },
   "outputs": [
    {
     "name": "stdout",
     "output_type": "stream",
     "text": [
      "site : 1 0.3762812933964887\n",
      "site : 2 0.0751073659880018\n",
      "site : 3 0.0913212976604952\n",
      "site : 4 0.12564518440266678\n",
      "site : 5 0.02090391441194817\n",
      "site : 6 0.16700963569015742\n",
      "site : 7 0.008151502128148497\n",
      "site : 8 0.004337784265845093\n",
      "site : 9 -0.14210926019727368\n",
      "site : 10 0.012432934706393214\n"
     ]
    }
   ],
   "source": [
    "ψ1 = deepcopy(ψ)\n",
    "#2-site TDVP\n",
    "tdvp!(ψ1,H,0.05,0.5,2,true,exp_tol=1e-15)\n",
    "\n",
    "#Calculate magnetisation at all sites.\n",
    "for j=1:N\n",
    "    println(\"site : \",j,\" \",measure_Sz(ψ1,j))\n",
    "end\n",
    "\n"
   ]
  },
  {
   "cell_type": "code",
   "execution_count": 41,
   "id": "0b13abda",
   "metadata": {
    "ExecuteTime": {
     "end_time": "2022-06-22T20:38:45.554000+05:30",
     "start_time": "2022-06-22T15:08:44.621Z"
    },
    "scrolled": true
   },
   "outputs": [
    {
     "name": "stdout",
     "output_type": "stream",
     "text": [
      "site : 1 0.37626898436431144\n",
      "site : 2 0.07517800305908894\n",
      "site : 3 0.09247551836174274\n",
      "site : 4 0.1275199851685747\n",
      "site : 5 0.014038883323798296\n",
      "site : 6 0.17411338031021556\n",
      "site : 7 0.005416363914200459\n",
      "site : 8 0.0037756356626461596\n",
      "site : 9 -0.14215113302596682\n",
      "site : 10 0.012447133255989798\n"
     ]
    }
   ],
   "source": [
    "ψ2 = deepcopy(ψ)\n",
    "\n",
    "#1-site TDVP\n",
    "tdvp!(ψ2,H,0.05,0.5,1,true,exp_tol=1e-15)\n",
    "\n",
    "#Calculate magnetisation at all sites.\n",
    "\n",
    "for j=1:N\n",
    "    println(\"site : \",j,\" \",measure_Sz(ψ2,j))\n",
    "end\n",
    "\n"
   ]
  },
  {
   "cell_type": "code",
   "execution_count": 42,
   "id": "635f02eb",
   "metadata": {
    "ExecuteTime": {
     "end_time": "2022-06-22T20:39:11.977000+05:30",
     "start_time": "2022-06-22T15:09:11.355Z"
    }
   },
   "outputs": [
    {
     "name": "stdout",
     "output_type": "stream",
     "text": [
      "site : 1 0.1665256764321503\n",
      "site : 2 0.2426621579430425\n",
      "site : 3 0.11294758821607137\n",
      "site : 4 0.08865566613743903\n",
      "site : 5 0.09351953310227319\n",
      "site : 6 0.09747919035903033\n",
      "site : 7 0.027631356713522348\n",
      "site : 8 -0.039645081402434855\n",
      "site : 9 -0.006982548052119505\n",
      "site : 10 -0.043711886524039414\n"
     ]
    }
   ],
   "source": [
    "#TEBD\n",
    "ψ3 = deepcopy(ψ)\n",
    "cutoff = 1e-15\n",
    "\n",
    "tau = 0.05\n",
    "ttotal = 2.0\n",
    "\n",
    "\n",
    "# Make gates (1,2),(2,3),(3,4),...\n",
    "gates = ITensor[]\n",
    "for j in 1:(N - 1)\n",
    "s1 = s[j]\n",
    "s2 = s[j + 1]\n",
    "hj =\n",
    "  op(\"Sz\", s1) * op(\"Sz\", s2) +\n",
    "  1 / 2 * op(\"S+\", s1) * op(\"S-\", s2) +\n",
    "  1 / 2 * op(\"S-\", s1) * op(\"S+\", s2)\n",
    "Gj = exp(-im * tau / 2 * hj)\n",
    "push!(gates, Gj)\n",
    "end\n",
    "# Include gates in reverse order too\n",
    "# (N,N-1),(N-1,N-2),...\n",
    "append!(gates, reverse(gates))\n",
    "c=div(N,2)\n",
    "\n",
    "for t in 0.0:tau:ttotal\n",
    "    Sz = expect(ψ3, \"Sz\"; sites=c)\n",
    "    #println(\"$t $Sz\")\n",
    "\n",
    "    t≈ttotal && break\n",
    "\n",
    "    ψ3 = apply(gates, ψ3; cutoff)\n",
    "    normalize!(ψ3)\n",
    "end\n",
    "\n",
    "\n",
    "#Measure magnetisation at each site\n",
    "for j=1:N\n",
    "    println(\"site : \",j,\" \",measure_Sz(ψ3,j))\n",
    "end\n",
    "\n"
   ]
  },
  {
   "cell_type": "code",
   "execution_count": 43,
   "id": "dc8b128f",
   "metadata": {
    "ExecuteTime": {
     "end_time": "2022-06-22T20:39:30.919000+05:30",
     "start_time": "2022-06-22T15:09:30.916Z"
    }
   },
   "outputs": [
    {
     "name": "stdout",
     "output_type": "stream",
     "text": [
      "0.9824277427237882 + 0.00047672448874302997im\n"
     ]
    }
   ],
   "source": [
    "println(inner(ψ1,ψ2))"
   ]
  },
  {
   "cell_type": "code",
   "execution_count": 44,
   "id": "abbeb1be",
   "metadata": {
    "ExecuteTime": {
     "end_time": "2022-06-22T20:39:31.673000+05:30",
     "start_time": "2022-06-22T15:09:31.669Z"
    }
   },
   "outputs": [
    {
     "name": "stdout",
     "output_type": "stream",
     "text": [
      "0.06541328252427006 - 0.3020079592307967im\n"
     ]
    }
   ],
   "source": [
    "println(inner(ψ1,ψ3))"
   ]
  },
  {
   "cell_type": "code",
   "execution_count": 45,
   "id": "c564088d",
   "metadata": {
    "ExecuteTime": {
     "end_time": "2022-06-22T20:39:33.284000+05:30",
     "start_time": "2022-06-22T15:09:33.280Z"
    }
   },
   "outputs": [
    {
     "name": "stdout",
     "output_type": "stream",
     "text": [
      "0.03551081778257293 - 0.2858314137582316im\n"
     ]
    }
   ],
   "source": [
    "println(inner(ψ2,ψ3))"
   ]
  },
  {
   "cell_type": "code",
   "execution_count": 36,
   "id": "c2e61db4",
   "metadata": {
    "ExecuteTime": {
     "end_time": "2022-06-22T20:37:42.875000+05:30",
     "start_time": "2022-06-22T15:07:42.789Z"
    }
   },
   "outputs": [
    {
     "name": "stdout",
     "output_type": "stream",
     "text": [
      "MPS\n",
      "[1] ((dim=2|id=605|\"S=1/2,Site,n=1\"), (dim=2|id=84|\"Link,n=1\"))\n",
      "[2] ((dim=2|id=84|\"Link,n=1\"), (dim=2|id=804|\"S=1/2,Site,n=2\"), (dim=4|id=812|\"Link,n=1\"))\n",
      "[3] ((dim=2|id=405|\"S=1/2,Site,n=3\"), (dim=8|id=601|\"Link,n=1\"), (dim=4|id=812|\"Link,n=1\"))\n",
      "[4] ((dim=2|id=121|\"S=1/2,Site,n=4\"), (dim=16|id=885|\"Link,n=1\"), (dim=8|id=601|\"Link,n=1\"))\n",
      "[5] ((dim=2|id=247|\"S=1/2,Site,n=5\"), (dim=32|id=410|\"Link,n=1\"), (dim=16|id=885|\"Link,n=1\"))\n",
      "[6] ((dim=2|id=294|\"S=1/2,Site,n=6\"), (dim=16|id=653|\"Link,n=1\"), (dim=32|id=410|\"Link,n=1\"))\n",
      "[7] ((dim=2|id=898|\"S=1/2,Site,n=7\"), (dim=8|id=553|\"Link,n=1\"), (dim=16|id=653|\"Link,n=1\"))\n",
      "[8] ((dim=2|id=108|\"S=1/2,Site,n=8\"), (dim=4|id=58|\"Link,n=1\"), (dim=8|id=553|\"Link,n=1\"))\n",
      "[9] ((dim=2|id=142|\"S=1/2,Site,n=9\"), (dim=2|id=679|\"Link,n=1\"), (dim=4|id=58|\"Link,n=1\"))\n",
      "[10] ((dim=2|id=261|\"S=1/2,Site,n=10\"), (dim=2|id=679|\"Link,n=1\"))\n",
      "\n"
     ]
    }
   ],
   "source": [
    "println(ψ3)"
   ]
  },
  {
   "cell_type": "code",
   "execution_count": null,
   "id": "3b627aa8",
   "metadata": {},
   "outputs": [],
   "source": []
  }
 ],
 "metadata": {
  "kernelspec": {
   "display_name": "Julia 1.7.2",
   "language": "julia",
   "name": "julia-1.7"
  },
  "language_info": {
   "file_extension": ".jl",
   "mimetype": "application/julia",
   "name": "julia",
   "version": "1.7.2"
  }
 },
 "nbformat": 4,
 "nbformat_minor": 5
}
