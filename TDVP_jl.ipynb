{
 "cells": [
  {
   "cell_type": "code",
   "execution_count": 1,
   "id": "212982ad",
   "metadata": {
    "ExecuteTime": {
     "end_time": "2022-06-21T19:10:11.101000+05:30",
     "start_time": "2022-06-21T13:40:11.099Z"
    }
   },
   "outputs": [],
   "source": [
    "\n",
    "using ITensors\n",
    "using ITensors: position!\n",
    "#using ITensorTDVP\n",
    "using KrylovKit\n",
    "using Printf\n",
    "#using ProgressMeter\n",
    "#ProgressMeter.ijulia_behavior(:append)"
   ]
  },
  {
   "cell_type": "markdown",
   "id": "02311b0f",
   "metadata": {},
   "source": [
    "# Simple TDVP\n",
    "\n",
    "Below is a code for a simple TDVP implementation (both for 1-site & 2-site variant). This is based on the ITensorTDVP. The function tdvp! takes the folllowing arguments.\n",
    "\n",
    "**Initial wavefunction** <br>\n",
    "**Hamiltonian :** (in MPO form) to time evolve the wave function<br>\n",
    "**dt(time step)** <br>\n",
    "**tf(final time )** : time upto which you want to evolve the system)<br>\n",
    "**reverse_step_val :** Decides whether you need the right-to-left swap (Changes the accuracy O(dt^3) for true,O(dt^2) for no)\n",
    "\n",
    "Time is entered as real for time evolution. The i is multiplied internally."
   ]
  },
  {
   "cell_type": "code",
   "execution_count": 5,
   "id": "1cbcce98",
   "metadata": {
    "ExecuteTime": {
     "end_time": "2022-06-21T19:10:13.178000+05:30",
     "start_time": "2022-06-21T13:40:13.155Z"
    }
   },
   "outputs": [
    {
     "data": {
      "text/plain": [
       "tdvp! (generic function with 2 methods)"
      ]
     },
     "execution_count": 5,
     "metadata": {},
     "output_type": "execute_result"
    }
   ],
   "source": [
    "struct TDVP end\n",
    "set_nsite!(PH::ProjMPO,nsite) = (PH.nsite = nsite)\n",
    "\n",
    "function solver(H, t, psi0; kwargs...)\n",
    "    solver_kwargs = (;\n",
    "      ishermitian=get(kwargs, :ishermitian, true),\n",
    "      issymmetric=get(kwargs, :issymmetric, true),\n",
    "      tol=get(kwargs, :solver_tol, 1E-12),\n",
    "      krylovdim=get(kwargs, :solver_krylovdim, 30),\n",
    "      maxiter=get(kwargs, :solver_maxiter, 100),\n",
    "      verbosity=get(kwargs, :solver_outputlevel, 0),\n",
    "      eager=true,\n",
    "    )\n",
    "    psi, info = exponentiate(H, t, psi0; solver_kwargs...)\n",
    "    return psi, info\n",
    "end\n",
    "\n",
    "function measure_Sz(psi,n)\n",
    "    psi = ITensors.orthogonalize(psi,n)\n",
    "    sn = siteind(psi,n)\n",
    "    Sz = scalar(dag(prime(psi[n],\"Site\"))*op(\"Sz\",sn)*psi[n])\n",
    "    return real(Sz)\n",
    "end\n",
    "\n",
    "\n",
    "function tdvp!(ψ::MPS,H::MPO,dt::Float64,tf::Float64,nsite::Int64,reverse_step_val; kwargs...)\n",
    "    \n",
    "    num_time_steps = Int(tf/dt)\n",
    "    \n",
    "    #kwargs\n",
    "   \n",
    "    #The error tolerance for `KrylovKit.exponentiate`\n",
    "    exp_tol = get(kwargs,:exp_tol, 1e-14)\n",
    "    #Passed to KrylovKit\n",
    "    krylovdim = get(kwargs,:krylovdim, 30 )\n",
    "    maxiter = get(kwargs,:maxiter,100)\n",
    "    normalize = get(kwargs,:normalize,true)\n",
    "    #Is the Hamiltonian H hermitian? Useful to KrylovKit for exponentiation\n",
    "    hermitian = get(kwargs,:hermitian,true)\n",
    "    \n",
    "    maxdim::Integer = get(kwargs, :maxdim, typemax(Int))\n",
    "    mindim::Integer = get(kwargs, :mindim, 1)\n",
    "    cutoff::Real = get(kwargs, :cutoff, 1E-16)\n",
    "    \n",
    "    #If progress bar is used\n",
    "    #pbar = get(kwargs,:progress, true) ? Progress(num_time_steps, desc=\"Evolving state... \") : nothing\n",
    "    \n",
    "   #Imaginary time step\n",
    "    τ = 1im*dt\n",
    "    \n",
    "    N = length(ψ)\n",
    "    #start with right orthogonalised wave function\n",
    "    ITensors.orthogonalize!(ψ,1)\n",
    "    \n",
    "    #Projected MPO\n",
    "    #https://docs.juliahub.com/ITensors/P3pqL/0.1.7/ProjMPO.html\n",
    "    \n",
    "    PH = ProjMPO(H)\n",
    "    position!(PH,ψ,1)\n",
    "    \n",
    "    \n",
    "    \n",
    "    set_nsite!(PH, nsite)\n",
    "    \n",
    "    \n",
    "    maxtruncerr = 0.0\n",
    "    \n",
    "    \n",
    "    #Do the time evolution\n",
    "    for time_step in 1:num_time_steps\n",
    "        stime  = @elapsed begin\n",
    "        # b is the active site  ha gives 1/2 depending on right/left swap\n",
    "        current_time = dt*time_step\n",
    "        for (b,ha) in sweepnext(N; ncenter=nsite)\n",
    "                # Do 'forwards' evolution step\n",
    "                \n",
    "                \n",
    "                set_nsite!(PH, nsite)\n",
    "                #orthogonalise at position b\n",
    "                \n",
    "                position!(PH, ψ, b)\n",
    "                if nsite == 1\n",
    "                  #println(\" Forward phi1 Selected\")\n",
    "                  phi1 = ψ[b]\n",
    "                elseif nsite == 2\n",
    "                  phi1 = ψ[b] * ψ[b + 1]\n",
    "                end\n",
    "\n",
    "                \n",
    "                #orthogonalise at position b\n",
    "                \n",
    "                #phi1, info = exponentiate(PH, -τ/2, phi1; ishermitian=hermitian , tol=exp_tol, krylovdim=krylovdim)\n",
    "                phi1, info = solver(PH, -τ/2, phi1)\n",
    "                info.converged==0 && throw(\"exponentiate did not converge\")\n",
    "                \n",
    "                spec = nothing\n",
    "                \n",
    "                \n",
    "                if nsite == 1\n",
    "                  ψ[b] = phi1\n",
    "                  Sz = measure_Sz(ψ,b) \n",
    "                  #@printf(\"Sweep %d,  Sz %f ----------------------------\\n\", time_step , Sz)\n",
    "                  flush(stdout)\n",
    "                  #println(\" Forward phi1 Replaced\")\n",
    "                elseif nsite == 2\n",
    "                  #Determine sweep direction\n",
    "                  dir = ha == 1 ? \"left\" : \"right\"\n",
    "                  spec = replacebond!(ψ,b,phi1;mindim,cutoff,normalize=normalize, ortho = dir, kwargs... )\n",
    "                  maxtruncerr = max(maxtruncerr, spec.truncerr)\n",
    "                end\n",
    "                \n",
    "                if(reverse_step_val == true)\n",
    "                    if ((ha == 1 && (b + nsite - 1 != N)) || (ha == 2 && b != 1))\n",
    "\n",
    "\n",
    "                        b1 = (ha==1 ? b + 1 : b)\n",
    "                        Δ = (ha==1 ? +1 : -1)\n",
    "\n",
    "                        if nsite == 2\n",
    "                            phi0 = ψ[b1]\n",
    "                        elseif nsite == 1\n",
    "                            #println(\" SVD\")\n",
    "                            uinds = uniqueinds(phi1, ψ[b + Δ])\n",
    "                            U, S, V = svd(phi1, uinds)\n",
    "                            ψ[b] = U\n",
    "                            phi0 = S * V\n",
    "                            if ha == 1\n",
    "                              ITensors.setleftlim!(ψ, b)\n",
    "                            elseif ha == 2\n",
    "                              ITensors.setrightlim!(ψ, b)\n",
    "                            end\n",
    "                        end\n",
    "\n",
    "                        # evolve with single-site Hamiltonian backward in time.\n",
    "                        # In the case of imaginary time-evolution this step\n",
    "                        # is not necessary (see Ref. [1])\n",
    "\n",
    "\n",
    "\n",
    "\n",
    "                        set_nsite!(PH, nsite - 1)\n",
    "                        ITensors.position!(PH, ψ, b1)\n",
    "                        phi0, info = exponentiate(PH, τ/2, phi0; ishermitian=hermitian , tol=exp_tol, krylovdim=krylovdim)\n",
    "                        normalize && (phi0 ./= norm(phi0))\n",
    "                        info.converged==0 && throw(\"exponentiate did not converge\")\n",
    "\n",
    "\n",
    "                        if nsite == 2\n",
    "                            ψ[b1] = phi0\n",
    "                            #print(\" Reverse phi  calculated\")\n",
    "                        elseif nsite == 1\n",
    "                            #println(\" Reverse phi  calculated\")\n",
    "                            ψ[b + Δ] = phi0 * ψ[b + Δ]\n",
    "                            if ha == 1\n",
    "                              ITensors.setrightlim!(ψ, b + Δ + 1)\n",
    "                            elseif ha == 2\n",
    "                              ITensors.setleftlim!(ψ, b + Δ - 1)\n",
    "                            end\n",
    "                        end\n",
    "\n",
    "                        set_nsite!(PH, nsite)\n",
    "\n",
    "\n",
    "\n",
    "                    end\n",
    "                    #if ((ha == 1 && (b + nsite - 1 != N)) || (ha == 2 && b != 1))\n",
    "                end\n",
    "                #for if(reverse_step_val == true)\n",
    "        end\n",
    "        #for(b,ha)\n",
    "            \n",
    "            #Sz = measure_Sz(ψ,5) \n",
    "            #@printf(\"Sweep %d,  Sz %f ----------------------------\\n\", time_step , Sz)\n",
    "            flush(stdout)\n",
    "\n",
    "        \n",
    "        end\n",
    "        #time elapsed\n",
    "        \n",
    "        \n",
    "       \n",
    "        \n",
    "    end\n",
    "    #External for loop for time_step\n",
    "end\n",
    "#function\n"
   ]
  },
  {
   "cell_type": "code",
   "execution_count": 6,
   "id": "b16c1ec4",
   "metadata": {
    "ExecuteTime": {
     "end_time": "2022-06-21T19:10:13.984000+05:30",
     "start_time": "2022-06-21T13:40:13.922Z"
    },
    "scrolled": true
   },
   "outputs": [
    {
     "name": "stdout",
     "output_type": "stream",
     "text": [
      "site : 1 -0.08526870311549709\n",
      "site : 2 -0.08851297246585628\n",
      "site : 3 -0.07673160975559071\n",
      "site : 4 -0.09912713033375235\n",
      "site : 5 0.0034443860263250192\n",
      "site : 6 -0.10520860836736742\n",
      "site : 7 -0.04403816787634869\n",
      "site : 8 -0.09786454743626884\n",
      "site : 9 -0.15922833447200693\n",
      "site : 10 -0.07259608020038817\n",
      "site : 11 -0.012795945457025516\n",
      "site : 12 -0.11286909462130937\n",
      "site : 13 0.12717016135708845\n",
      "site : 14 -0.09544193969514775\n",
      "site : 15 0.015652922504292753\n"
     ]
    },
    {
     "data": {
      "text/plain": [
       "MPS\n",
       "[1] ((dim=2|id=931|\"S=1/2,Site,n=1\"), (dim=5|id=67|\"Link,l=1\"))\n",
       "[2] ((dim=5|id=67|\"Link,l=1\"), (dim=2|id=335|\"S=1/2,Site,n=2\"), (dim=5|id=931|\"Link,l=2\"))\n",
       "[3] ((dim=5|id=931|\"Link,l=2\"), (dim=2|id=845|\"S=1/2,Site,n=3\"), (dim=5|id=130|\"Link,l=3\"))\n",
       "[4] ((dim=5|id=130|\"Link,l=3\"), (dim=2|id=375|\"S=1/2,Site,n=4\"), (dim=5|id=414|\"Link,l=4\"))\n",
       "[5] ((dim=5|id=414|\"Link,l=4\"), (dim=2|id=908|\"S=1/2,Site,n=5\"), (dim=5|id=656|\"Link,l=5\"))\n",
       "[6] ((dim=5|id=656|\"Link,l=5\"), (dim=2|id=827|\"S=1/2,Site,n=6\"), (dim=5|id=726|\"Link,l=6\"))\n",
       "[7] ((dim=5|id=726|\"Link,l=6\"), (dim=2|id=488|\"S=1/2,Site,n=7\"), (dim=5|id=686|\"Link,l=7\"))\n",
       "[8] ((dim=5|id=686|\"Link,l=7\"), (dim=2|id=400|\"S=1/2,Site,n=8\"), (dim=5|id=796|\"Link,l=8\"))\n",
       "[9] ((dim=5|id=796|\"Link,l=8\"), (dim=2|id=586|\"S=1/2,Site,n=9\"), (dim=5|id=365|\"Link,l=9\"))\n",
       "[10] ((dim=5|id=365|\"Link,l=9\"), (dim=2|id=873|\"S=1/2,Site,n=10\"), (dim=5|id=475|\"Link,l=10\"))\n",
       "[11] ((dim=5|id=475|\"Link,l=10\"), (dim=2|id=41|\"S=1/2,Site,n=11\"), (dim=5|id=23|\"Link,l=11\"))\n",
       "[12] ((dim=5|id=23|\"Link,l=11\"), (dim=2|id=669|\"S=1/2,Site,n=12\"), (dim=5|id=510|\"Link,l=12\"))\n",
       "[13] ((dim=5|id=510|\"Link,l=12\"), (dim=2|id=588|\"S=1/2,Site,n=13\"), (dim=4|id=530|\"Link,l=13\"))\n",
       "[14] ((dim=4|id=530|\"Link,l=13\"), (dim=2|id=890|\"S=1/2,Site,n=14\"), (dim=2|id=409|\"Link,l=14\"))\n",
       "[15] ((dim=2|id=409|\"Link,l=14\"), (dim=2|id=107|\"S=1/2,Site,n=15\"))\n"
      ]
     },
     "execution_count": 6,
     "metadata": {},
     "output_type": "execute_result"
    }
   ],
   "source": [
    "N = 15\n",
    "\n",
    "s = siteinds(\"S=1/2\", N)\n",
    "\n",
    "os = OpSum()\n",
    "for j in 1:(N - 1)\n",
    "    os += 0.5, \"S+\", j, \"S-\", j + 1\n",
    "    os += 0.5, \"S-\", j, \"S+\", j + 1\n",
    "    os += \"Sz\", j, \"Sz\", j + 1\n",
    "end\n",
    "\n",
    "H = MPO(os, s)\n",
    "#ψ = productMPS(s, n -> isodd(n) ? \"Up\" : \"Dn\")\n",
    "ψ=randomMPS(s; linkdims=5)\n",
    "#psi = productMPS(s, n -> isodd(n) ? \"Up\" : \"Dn\")\n",
    "\n",
    "\n",
    "for j=1:N\n",
    "    println(\"site : \",j,\" \",measure_Sz(ψ,j))\n",
    "end\n",
    "\n",
    "ψ4 = deepcopy(ψ)\n",
    "ψ5 = deepcopy(ψ)"
   ]
  },
  {
   "cell_type": "code",
   "execution_count": 11,
   "id": "7766d512",
   "metadata": {
    "ExecuteTime": {
     "end_time": "2022-06-21T19:10:19.357000+05:30",
     "start_time": "2022-06-21T13:40:14.610Z"
    }
   },
   "outputs": [
    {
     "name": "stdout",
     "output_type": "stream",
     "text": [
      "site : 1 -0.093452863185101\n",
      "site : 2 -0.08178489398528875\n",
      "site : 3 -0.0794771425311438\n",
      "site : 4 -0.08819919115203972\n",
      "site : 5 -0.011680587017789441\n",
      "site : 6 -0.09106692935222331\n",
      "site : 7 -0.0510131358764921\n",
      "site : 8 -0.1024706608447248\n",
      "site : 9 -0.15432850164863599\n",
      "site : 10 -0.07113860870382355\n",
      "site : 11 -0.01850252707471057\n",
      "site : 12 -0.08833401903445237\n",
      "site : 13 0.09584451193573146\n",
      "site : 14 -0.06397973967394525\n",
      "site : 15 -0.0038313774334711864\n"
     ]
    }
   ],
   "source": [
    "ψ1 = deepcopy(ψ)\n",
    "#2-site TDVP\n",
    "tdvp!(ψ1,H,0.05,0.5,2,true,exp_tol=1e-15)\n",
    "\n",
    "#Calculate magnetisation at all sites.\n",
    "for j=1:N\n",
    "    println(\"site : \",j,\" \",measure_Sz(ψ1,j))\n",
    "end\n",
    "\n"
   ]
  },
  {
   "cell_type": "code",
   "execution_count": 12,
   "id": "0b13abda",
   "metadata": {
    "ExecuteTime": {
     "end_time": "2022-06-21T19:10:20.551000+05:30",
     "start_time": "2022-06-21T13:40:15.430Z"
    }
   },
   "outputs": [
    {
     "name": "stdout",
     "output_type": "stream",
     "text": [
      "site : 1 -0.0934596755567175\n",
      "site : 2 -0.08178304607803671\n",
      "site : 3 -0.07999076913150935\n",
      "site : 4 -0.09015637803826905\n",
      "site : 5 -0.004239550097459133\n",
      "site : 6 -0.09799494904165015\n",
      "site : 7 -0.04746173490546908\n",
      "site : 8 -0.10401669117613827\n",
      "site : 9 -0.1564098829520334\n",
      "site : 10 -0.07184855506132783\n",
      "site : 11 -0.011227147423697383\n",
      "site : 12 -0.09378763327426859\n",
      "site : 13 0.09676414154146194\n",
      "site : 14 -0.06396636073371388\n",
      "site : 15 -0.0038319107217482523\n"
     ]
    }
   ],
   "source": [
    "ψ2 = deepcopy(ψ)\n",
    "\n",
    "#1-site TDVP\n",
    "tdvp!(ψ2,H,0.05,0.5,1,true,exp_tol=1e-15)\n",
    "\n",
    "#Calculate magnetisation at all sites.\n",
    "\n",
    "for j=1:N\n",
    "    println(\"site : \",j,\" \",measure_Sz(ψ2,j))\n",
    "end\n",
    "\n"
   ]
  },
  {
   "cell_type": "code",
   "execution_count": 13,
   "id": "24e4f5c8",
   "metadata": {
    "ExecuteTime": {
     "end_time": "2022-06-21T19:07:28.155000+05:30",
     "start_time": "2022-06-21T13:37:28.010Z"
    }
   },
   "outputs": [
    {
     "name": "stdout",
     "output_type": "stream",
     "text": [
      "site : 1 -0.08526870311549709\n",
      "site : 2 -0.08851297246585628\n",
      "site : 3 -0.07673160975559071\n",
      "site : 4 -0.09912713033375235\n",
      "site : 5 0.0034443860263250192\n",
      "site : 6 -0.10520860836736742\n",
      "site : 7 -0.04403816787634869\n",
      "site : 8 -0.09786454743626884\n",
      "site : 9 -0.15922833447200693\n",
      "site : 10 -0.07259608020038817\n",
      "site : 11 -0.012795945457025516\n",
      "site : 12 -0.11286909462130937\n",
      "site : 13 0.12717016135708845\n",
      "site : 14 -0.09544193969514775\n",
      "site : 15 0.015652922504292753\n"
     ]
    }
   ],
   "source": [
    "ψ3 = deepcopy(ψ)\n",
    "cutoff = 1e-15\n",
    "\n",
    "ttotal = 0.5\n",
    "tau = 0.05\n",
    "current_time = 0\n",
    "Nsteps = Int(ttotal/tau)\n",
    "\n",
    "gates = ITensor[]\n",
    "  for j=1:N-1\n",
    "    s1 = s[j]\n",
    "    s2 = s[j+1]\n",
    "    hj =       op(\"Sz\",s1) * op(\"Sz\",s2) +\n",
    "         1/2 * op(\"S+\",s1) * op(\"S-\",s2) +\n",
    "         1/2 * op(\"S-\",s1) * op(\"S+\",s2)\n",
    "    Gj = exp(-1.0im * tau/2 * hj)\n",
    "    push!(gates,Gj)\n",
    "  end\n",
    "\n",
    "\n",
    "append!(gates,reverse(gates))\n",
    "\n",
    "\n",
    "\n",
    "for step=1:Nsteps\n",
    "    psi = apply(gates, ψ3; cutoff=cutoff)\n",
    "    current_time += tau\n",
    "    Sz = measure_Sz(ψ3,5)\n",
    "    #println(\"$current_time   $Sz\")\n",
    "end\n",
    "\n",
    "\n",
    "#Calculate magnetisation at all sites.\n",
    "\n",
    "for j=1:N\n",
    "    println(\"site : \",j,\" \",measure_Sz(ψ3,j))\n",
    "end\n",
    "\n",
    "\n"
   ]
  },
  {
   "cell_type": "code",
   "execution_count": 82,
   "id": "8bcde76a",
   "metadata": {
    "ExecuteTime": {
     "end_time": "2022-06-21T18:31:09.401000+05:30",
     "start_time": "2022-06-21T13:01:08.356Z"
    }
   },
   "outputs": [
    {
     "name": "stdout",
     "output_type": "stream",
     "text": [
      "After sweep 1: maxlinkdim=20 maxerr=1.01E-16 current_time=0.0 - 1.0im time=0.101\n",
      "After sweep 2: maxlinkdim=30 maxerr=7.14E-06 current_time=0.0 - 2.0im time=0.219\n",
      "After sweep 3: maxlinkdim=30 maxerr=2.88E-04 current_time=0.0 - 3.0im time=0.232\n",
      "After sweep 4: maxlinkdim=30 maxerr=2.04E-03 current_time=0.0 - 4.0im time=0.233\n",
      "After sweep 5: maxlinkdim=30 maxerr=5.18E-03 current_time=0.0 - 5.0im time=0.255\n"
     ]
    },
    {
     "data": {
      "text/plain": [
       "MPS\n",
       "[1] ((dim=2|id=2|\"Link,l=1\"), (dim=2|id=450|\"S=1/2,Site,n=1\"))\n",
       "[2] ((dim=4|id=129|\"Link,l=2\"), (dim=2|id=681|\"S=1/2,Site,n=2\"), (dim=2|id=2|\"Link,l=1\"))\n",
       "[3] ((dim=8|id=124|\"Link,l=3\"), (dim=2|id=982|\"S=1/2,Site,n=3\"), (dim=4|id=129|\"Link,l=2\"))\n",
       "[4] ((dim=16|id=37|\"Link,l=4\"), (dim=2|id=818|\"S=1/2,Site,n=4\"), (dim=8|id=124|\"Link,l=3\"))\n",
       "[5] ((dim=30|id=198|\"Link,l=5\"), (dim=2|id=729|\"S=1/2,Site,n=5\"), (dim=16|id=37|\"Link,l=4\"))\n",
       "[6] ((dim=30|id=995|\"Link,l=6\"), (dim=2|id=642|\"S=1/2,Site,n=6\"), (dim=30|id=198|\"Link,l=5\"))\n",
       "[7] ((dim=30|id=771|\"Link,l=7\"), (dim=2|id=859|\"S=1/2,Site,n=7\"), (dim=30|id=995|\"Link,l=6\"))\n",
       "[8] ((dim=30|id=74|\"Link,l=8\"), (dim=2|id=348|\"S=1/2,Site,n=8\"), (dim=30|id=771|\"Link,l=7\"))\n",
       "[9] ((dim=30|id=46|\"Link,l=9\"), (dim=2|id=64|\"S=1/2,Site,n=9\"), (dim=30|id=74|\"Link,l=8\"))\n",
       "[10] ((dim=30|id=36|\"Link,l=10\"), (dim=2|id=658|\"S=1/2,Site,n=10\"), (dim=30|id=46|\"Link,l=9\"))\n",
       "[11] ((dim=16|id=520|\"Link,l=11\"), (dim=2|id=48|\"S=1/2,Site,n=11\"), (dim=30|id=36|\"Link,l=10\"))\n",
       "[12] ((dim=8|id=376|\"Link,l=12\"), (dim=2|id=347|\"S=1/2,Site,n=12\"), (dim=16|id=520|\"Link,l=11\"))\n",
       "[13] ((dim=4|id=983|\"Link,l=13\"), (dim=2|id=673|\"S=1/2,Site,n=13\"), (dim=8|id=376|\"Link,l=12\"))\n",
       "[14] ((dim=2|id=620|\"Link,l=14\"), (dim=2|id=542|\"S=1/2,Site,n=14\"), (dim=4|id=983|\"Link,l=13\"))\n",
       "[15] ((dim=2|id=534|\"S=1/2,Site,n=15\"), (dim=2|id=620|\"Link,l=14\"))\n"
      ]
     },
     "execution_count": 82,
     "metadata": {},
     "output_type": "execute_result"
    }
   ],
   "source": [
    "ψ4 = deepcopy(ψ)\n",
    "\n",
    "ψ4 = tdvp(\n",
    "  H,\n",
    "  -1.0*1im,\n",
    "  ψ4;\n",
    "  nsweeps=5,\n",
    "  reverse_step=true,\n",
    "  normalize=true,\n",
    "  maxdim=30,\n",
    "  cutoff=1e-10,\n",
    "  outputlevel=1,\n",
    "  nsite = 2\n",
    ") "
   ]
  },
  {
   "cell_type": "code",
   "execution_count": 83,
   "id": "31cc2e7a",
   "metadata": {
    "ExecuteTime": {
     "end_time": "2022-06-21T18:31:14.291000+05:30",
     "start_time": "2022-06-21T13:01:14.221Z"
    }
   },
   "outputs": [
    {
     "name": "stdout",
     "output_type": "stream",
     "text": [
      "site : 1 -0.0864515260159397\n",
      "site : 2 -0.1372697747021163\n",
      "site : 3 -0.10306718853261407\n",
      "site : 4 -0.11445201371170335\n",
      "site : 5 -0.11007629741898352\n",
      "site : 6 -0.07156634942917162\n",
      "site : 7 -0.07059097350693065\n",
      "site : 8 -0.030780431525036265\n",
      "site : 9 -0.0403147463875579\n",
      "site : 10 -0.03128804023562393\n",
      "site : 11 -0.02716403028438104\n",
      "site : 12 -0.016209932134029992\n",
      "site : 13 -0.07488753328380864\n",
      "site : 14 -0.060685216462866516\n",
      "site : 15 -0.002882363495958107\n"
     ]
    }
   ],
   "source": [
    "for j=1:N\n",
    "    println(\"site : \",j,\" \",measure_Sz(ψ4,j))\n",
    "end\n",
    "\n"
   ]
  },
  {
   "cell_type": "code",
   "execution_count": 72,
   "id": "1d8dd17b",
   "metadata": {
    "ExecuteTime": {
     "end_time": "2022-06-21T18:16:43.332000+05:30",
     "start_time": "2022-06-21T12:46:42.478Z"
    }
   },
   "outputs": [
    {
     "name": "stdout",
     "output_type": "stream",
     "text": [
      "After sweep 1: maxlinkdim=30 maxerr=0.00E+00 current_time=0.0 - 1.0im time=0.386\n",
      "After sweep 2: maxlinkdim=30 maxerr=0.00E+00 current_time=0.0 - 2.0im time=0.122\n",
      "After sweep 3: maxlinkdim=30 maxerr=0.00E+00 current_time=0.0 - 3.0im time=0.115\n",
      "After sweep 4: maxlinkdim=30 maxerr=0.00E+00 current_time=0.0 - 4.0im time=0.113\n",
      "After sweep 5: maxlinkdim=30 maxerr=0.00E+00 current_time=0.0 - 5.0im time=0.113\n"
     ]
    },
    {
     "data": {
      "text/plain": [
       "MPS\n",
       "[1] ((dim=2|id=291|\"Link,u\"), (dim=2|id=993|\"S=1/2,Site,n=1\"))\n",
       "[2] ((dim=4|id=841|\"Link,u\"), (dim=2|id=617|\"S=1/2,Site,n=2\"), (dim=2|id=291|\"Link,u\"))\n",
       "[3] ((dim=8|id=831|\"Link,u\"), (dim=2|id=904|\"S=1/2,Site,n=3\"), (dim=4|id=841|\"Link,u\"))\n",
       "[4] ((dim=16|id=561|\"Link,u\"), (dim=2|id=232|\"S=1/2,Site,n=4\"), (dim=8|id=831|\"Link,u\"))\n",
       "[5] ((dim=30|id=501|\"Link,u\"), (dim=2|id=162|\"S=1/2,Site,n=5\"), (dim=16|id=561|\"Link,u\"))\n",
       "[6] ((dim=30|id=196|\"Link,u\"), (dim=2|id=694|\"S=1/2,Site,n=6\"), (dim=30|id=501|\"Link,u\"))\n",
       "[7] ((dim=30|id=433|\"Link,u\"), (dim=2|id=499|\"S=1/2,Site,n=7\"), (dim=30|id=196|\"Link,u\"))\n",
       "[8] ((dim=30|id=599|\"Link,u\"), (dim=2|id=487|\"S=1/2,Site,n=8\"), (dim=30|id=433|\"Link,u\"))\n",
       "[9] ((dim=30|id=629|\"Link,u\"), (dim=2|id=668|\"S=1/2,Site,n=9\"), (dim=30|id=599|\"Link,u\"))\n",
       "[10] ((dim=30|id=551|\"Link,u\"), (dim=2|id=173|\"S=1/2,Site,n=10\"), (dim=30|id=629|\"Link,u\"))\n",
       "[11] ((dim=16|id=896|\"Link,u\"), (dim=2|id=169|\"S=1/2,Site,n=11\"), (dim=30|id=551|\"Link,u\"))\n",
       "[12] ((dim=8|id=892|\"Link,u\"), (dim=2|id=473|\"S=1/2,Site,n=12\"), (dim=16|id=896|\"Link,u\"))\n",
       "[13] ((dim=4|id=42|\"Link,u\"), (dim=2|id=237|\"S=1/2,Site,n=13\"), (dim=8|id=892|\"Link,u\"))\n",
       "[14] ((dim=2|id=967|\"Link,u\"), (dim=2|id=42|\"S=1/2,Site,n=14\"), (dim=4|id=42|\"Link,u\"))\n",
       "[15] ((dim=2|id=331|\"S=1/2,Site,n=15\"), (dim=2|id=967|\"Link,u\"))\n"
      ]
     },
     "execution_count": 72,
     "metadata": {},
     "output_type": "execute_result"
    }
   ],
   "source": [
    "ψ5 = deepcopy(ψ)\n",
    "\n",
    "ψ5 = tdvp(\n",
    "  H,\n",
    "  -1.0*1im,\n",
    "  ψ4;\n",
    "  nsweeps=5,\n",
    "  reverse_step=true,\n",
    "  normalize=true,\n",
    "  maxdim=30,\n",
    "  cutoff=1e-10,\n",
    "  outputlevel=1,\n",
    "  nsite = 1\n",
    ") "
   ]
  },
  {
   "cell_type": "code",
   "execution_count": 73,
   "id": "b6fe93ec",
   "metadata": {
    "ExecuteTime": {
     "end_time": "2022-06-21T18:16:45.880000+05:30",
     "start_time": "2022-06-21T12:46:45.835Z"
    }
   },
   "outputs": [
    {
     "name": "stdout",
     "output_type": "stream",
     "text": [
      "site : 1 0.03860109646787632\n",
      "site : 2 0.034605718964978174\n",
      "site : 3 0.04510344565698165\n",
      "site : 4 0.00964804029571964\n",
      "site : 5 0.023088110795177037\n",
      "site : 6 0.02568038288648089\n",
      "site : 7 -0.00408984113220073\n",
      "site : 8 0.008745123586907556\n",
      "site : 9 -0.04504117232291012\n",
      "site : 10 -0.0426517178367074\n",
      "site : 11 -0.0786536857155359\n",
      "site : 12 -0.1084536247008053\n",
      "site : 13 -0.057703645361959294\n",
      "site : 14 -0.09079304845974313\n",
      "site : 15 -0.0769379783483124\n"
     ]
    }
   ],
   "source": [
    "for j=1:N\n",
    "    println(\"site : \",j,\" \",measure_Sz(ψ5,j))\n",
    "end"
   ]
  },
  {
   "cell_type": "code",
   "execution_count": null,
   "id": "9658903d",
   "metadata": {},
   "outputs": [],
   "source": []
  }
 ],
 "metadata": {
  "kernelspec": {
   "display_name": "Julia 1.7.3",
   "language": "julia",
   "name": "julia-1.7"
  },
  "language_info": {
   "file_extension": ".jl",
   "mimetype": "application/julia",
   "name": "julia",
   "version": "1.7.3"
  }
 },
 "nbformat": 4,
 "nbformat_minor": 5
}
