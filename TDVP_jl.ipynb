{
 "cells": [
  {
   "cell_type": "code",
   "execution_count": 27,
   "id": "212982ad",
   "metadata": {
    "ExecuteTime": {
     "end_time": "2022-06-22T20:36:44.747000+05:30",
     "start_time": "2022-06-22T15:06:44.744Z"
    }
   },
   "outputs": [],
   "source": [
    "\n",
    "using ITensors\n",
    "using ITensors: position!\n",
    "#using ITensorTDVP\n",
    "using KrylovKit\n",
    "using Printf\n",
    "#using ProgressMeter\n",
    "#ProgressMeter.ijulia_behavior(:append)"
   ]
  },
  {
   "cell_type": "markdown",
   "id": "02311b0f",
   "metadata": {},
   "source": [
    "# Simple TDVP\n",
    "\n",
    "Below is a code for a simple TDVP implementation (both for 1-site & 2-site variant). This is based on the ITensorTDVP. The function tdvp! takes the folllowing arguments.\n",
    "\n",
    "**Initial wavefunction** <br>\n",
    "**Hamiltonian :** (in MPO form) to time evolve the wave function<br>\n",
    "**dt(time step)** <br>\n",
    "**tf(final time )** : time upto which you want to evolve the system)<br>\n",
    "**reverse_step_val :** Decides whether you need the right-to-left swap (Changes the accuracy O(dt^3) for true,O(dt^2) for no)\n",
    "\n",
    "Time is entered as real for time evolution. The i is multiplied internally."
   ]
  },
  {
   "cell_type": "code",
   "execution_count": 28,
   "id": "1cbcce98",
   "metadata": {
    "ExecuteTime": {
     "end_time": "2022-06-22T20:36:46.133000+05:30",
     "start_time": "2022-06-22T15:06:46.093Z"
    }
   },
   "outputs": [
    {
     "data": {
      "text/plain": [
       "tdvp! (generic function with 1 method)"
      ]
     },
     "execution_count": 28,
     "metadata": {},
     "output_type": "execute_result"
    }
   ],
   "source": [
    "struct TDVP end\n",
    "set_nsite!(PH::ProjMPO,nsite) = (PH.nsite = nsite)\n",
    "\n",
    "function solver(H, t, psi0; kwargs...)\n",
    "    solver_kwargs = (;\n",
    "      ishermitian=get(kwargs, :ishermitian, true),\n",
    "      issymmetric=get(kwargs, :issymmetric, true),\n",
    "      tol=get(kwargs, :solver_tol, 1E-12),\n",
    "      krylovdim=get(kwargs, :solver_krylovdim, 30),\n",
    "      maxiter=get(kwargs, :solver_maxiter, 100),\n",
    "      verbosity=get(kwargs, :solver_outputlevel, 0),\n",
    "      eager=true,\n",
    "    )\n",
    "    psi, info = exponentiate(H, t, psi0; solver_kwargs...)\n",
    "    return psi, info\n",
    "end\n",
    "\n",
    "function measure_Sz(psi,n)\n",
    "    psi = ITensors.orthogonalize(psi,n)\n",
    "    sn = siteind(psi,n)\n",
    "    Sz = scalar(dag(prime(psi[n],\"Site\"))*op(\"Sz\",sn)*psi[n])\n",
    "    return real(Sz)\n",
    "end\n",
    "\n",
    "\n",
    "function tdvp!(ψ::MPS,H::MPO,dt::Float64,tf::Float64,nsite::Int64,reverse_step_val; kwargs...)\n",
    "    \n",
    "    num_time_steps = Int(tf/dt)\n",
    "    \n",
    "    #kwargs\n",
    "   \n",
    "    #The error tolerance for `KrylovKit.exponentiate`\n",
    "    exp_tol = get(kwargs,:exp_tol, 1e-14)\n",
    "    #Passed to KrylovKit\n",
    "    krylovdim = get(kwargs,:krylovdim, 30 )\n",
    "    maxiter = get(kwargs,:maxiter,100)\n",
    "    normalize = get(kwargs,:normalize,true)\n",
    "    #Is the Hamiltonian H hermitian? Useful to KrylovKit for exponentiation\n",
    "    hermitian = get(kwargs,:hermitian,true)\n",
    "    \n",
    "    maxdim::Integer = get(kwargs, :maxdim, typemax(Int))\n",
    "    mindim::Integer = get(kwargs, :mindim, 1)\n",
    "    cutoff::Real = get(kwargs, :cutoff, 1E-16)\n",
    "    \n",
    "    #If progress bar is used\n",
    "    #pbar = get(kwargs,:progress, true) ? Progress(num_time_steps, desc=\"Evolving state... \") : nothing\n",
    "    \n",
    "   #Imaginary time step\n",
    "    τ = 1im*dt\n",
    "    \n",
    "    N = length(ψ)\n",
    "    #start with right orthogonalised wave function\n",
    "    ITensors.orthogonalize!(ψ,1)\n",
    "    \n",
    "    #Projected MPO\n",
    "    #https://docs.juliahub.com/ITensors/P3pqL/0.1.7/ProjMPO.html\n",
    "    \n",
    "    PH = ProjMPO(H)\n",
    "    position!(PH,ψ,1)\n",
    "    \n",
    "    \n",
    "    \n",
    "    set_nsite!(PH, nsite)\n",
    "    \n",
    "    \n",
    "    maxtruncerr = 0.0\n",
    "    \n",
    "    \n",
    "    #Do the time evolution\n",
    "    for time_step in 1:num_time_steps\n",
    "        stime  = @elapsed begin\n",
    "        # b is the active site  ha gives 1/2 depending on right/left swap\n",
    "        current_time = dt*time_step\n",
    "        for (b,ha) in sweepnext(N; ncenter=nsite)\n",
    "                # Do 'forwards' evolution step\n",
    "                \n",
    "                \n",
    "                set_nsite!(PH, nsite)\n",
    "                #orthogonalise at position b\n",
    "                \n",
    "                position!(PH, ψ, b)\n",
    "                if nsite == 1\n",
    "                  #println(\" Forward phi1 Selected\")\n",
    "                  phi1 = ψ[b]\n",
    "                elseif nsite == 2\n",
    "                  phi1 = ψ[b] * ψ[b + 1]\n",
    "                end\n",
    "\n",
    "                \n",
    "                #orthogonalise at position b\n",
    "                \n",
    "                #phi1, info = exponentiate(PH, -τ/2, phi1; ishermitian=hermitian , tol=exp_tol, krylovdim=krylovdim)\n",
    "                phi1, info = solver(PH, -τ/2, phi1)\n",
    "                info.converged==0 && throw(\"exponentiate did not converge\")\n",
    "                \n",
    "                spec = nothing\n",
    "                \n",
    "                \n",
    "                if nsite == 1\n",
    "                  ψ[b] = phi1\n",
    "                  Sz = measure_Sz(ψ,b) \n",
    "                  #@printf(\"Sweep %d,  Sz %f ----------------------------\\n\", time_step , Sz)\n",
    "                  flush(stdout)\n",
    "                  #println(\" Forward phi1 Replaced\")\n",
    "                elseif nsite == 2\n",
    "                  #Determine sweep direction\n",
    "                  dir = ha == 1 ? \"left\" : \"right\"\n",
    "                  spec = replacebond!(ψ,b,phi1;mindim,cutoff,normalize=normalize, ortho = dir, kwargs... )\n",
    "                  maxtruncerr = max(maxtruncerr, spec.truncerr)\n",
    "                end\n",
    "                \n",
    "                if(reverse_step_val == true)\n",
    "                    if ((ha == 1 && (b + nsite - 1 != N)) || (ha == 2 && b != 1))\n",
    "\n",
    "\n",
    "                        b1 = (ha==1 ? b + 1 : b)\n",
    "                        Δ = (ha==1 ? +1 : -1)\n",
    "\n",
    "                        if nsite == 2\n",
    "                            phi0 = ψ[b1]\n",
    "                        elseif nsite == 1\n",
    "                            #println(\" SVD\")\n",
    "                            uinds = uniqueinds(phi1, ψ[b + Δ])\n",
    "                            U, S, V = svd(phi1, uinds)\n",
    "                            ψ[b] = U\n",
    "                            phi0 = S * V\n",
    "                            if ha == 1\n",
    "                              ITensors.setleftlim!(ψ, b)\n",
    "                            elseif ha == 2\n",
    "                              ITensors.setrightlim!(ψ, b)\n",
    "                            end\n",
    "                        end\n",
    "\n",
    "                        # evolve with single-site Hamiltonian backward in time.\n",
    "                        # In the case of imaginary time-evolution this step\n",
    "                        # is not necessary (see Ref. [1])\n",
    "\n",
    "\n",
    "\n",
    "\n",
    "                        set_nsite!(PH, nsite - 1)\n",
    "                        ITensors.position!(PH, ψ, b1)\n",
    "                        phi0, info = exponentiate(PH, τ/2, phi0; ishermitian=hermitian , tol=exp_tol, krylovdim=krylovdim)\n",
    "                        normalize && (phi0 ./= norm(phi0))\n",
    "                        info.converged==0 && throw(\"exponentiate did not converge\")\n",
    "\n",
    "\n",
    "                        if nsite == 2\n",
    "                            ψ[b1] = phi0\n",
    "                            #print(\" Reverse phi  calculated\")\n",
    "                        elseif nsite == 1\n",
    "                            #println(\" Reverse phi  calculated\")\n",
    "                            ψ[b + Δ] = phi0 * ψ[b + Δ]\n",
    "                            if ha == 1\n",
    "                              ITensors.setrightlim!(ψ, b + Δ + 1)\n",
    "                            elseif ha == 2\n",
    "                              ITensors.setleftlim!(ψ, b + Δ - 1)\n",
    "                            end\n",
    "                        end\n",
    "\n",
    "                        set_nsite!(PH, nsite)\n",
    "\n",
    "\n",
    "\n",
    "                    end\n",
    "                    #if ((ha == 1 && (b + nsite - 1 != N)) || (ha == 2 && b != 1))\n",
    "                end\n",
    "                #for if(reverse_step_val == true)\n",
    "        end\n",
    "        #for(b,ha)\n",
    "            \n",
    "            #Sz = measure_Sz(ψ,5) \n",
    "            #@printf(\"Sweep %d,  Sz %f ----------------------------\\n\", time_step , Sz)\n",
    "            flush(stdout)\n",
    "\n",
    "        \n",
    "        end\n",
    "        #time elapsed\n",
    "        \n",
    "        \n",
    "       \n",
    "        \n",
    "    end\n",
    "    #External for loop for time_step\n",
    "    \n",
    "    ψ=ψ/norm(ψ)\n",
    "end\n",
    "#function\n"
   ]
  },
  {
   "cell_type": "code",
   "execution_count": 29,
   "id": "b16c1ec4",
   "metadata": {
    "ExecuteTime": {
     "end_time": "2022-06-22T20:36:46.937000+05:30",
     "start_time": "2022-06-22T15:06:46.839Z"
    },
    "scrolled": true
   },
   "outputs": [
    {
     "name": "stdout",
     "output_type": "stream",
     "text": [
      "site : 1 -0.06936350635542715\n",
      "site : 2 -0.09889726968356241\n",
      "site : 3 0.1914737662189277\n",
      "site : 4 -0.04751629279313857\n",
      "site : 5 -0.031074707695847067\n",
      "site : 6 0.04983475281523747\n",
      "site : 7 0.12772828588925111\n",
      "site : 8 0.04463377118149115\n",
      "site : 9 0.014652802719601715\n",
      "site : 10 0.016127667039617752\n"
     ]
    },
    {
     "data": {
      "text/plain": [
       "MPS\n",
       "[1] ((dim=2|id=605|\"S=1/2,Site,n=1\"), (dim=5|id=687|\"Link,l=1\"))\n",
       "[2] ((dim=5|id=687|\"Link,l=1\"), (dim=2|id=804|\"S=1/2,Site,n=2\"), (dim=5|id=625|\"Link,l=2\"))\n",
       "[3] ((dim=5|id=625|\"Link,l=2\"), (dim=2|id=405|\"S=1/2,Site,n=3\"), (dim=5|id=559|\"Link,l=3\"))\n",
       "[4] ((dim=5|id=559|\"Link,l=3\"), (dim=2|id=121|\"S=1/2,Site,n=4\"), (dim=5|id=293|\"Link,l=4\"))\n",
       "[5] ((dim=5|id=293|\"Link,l=4\"), (dim=2|id=247|\"S=1/2,Site,n=5\"), (dim=5|id=734|\"Link,l=5\"))\n",
       "[6] ((dim=5|id=734|\"Link,l=5\"), (dim=2|id=294|\"S=1/2,Site,n=6\"), (dim=5|id=854|\"Link,l=6\"))\n",
       "[7] ((dim=5|id=854|\"Link,l=6\"), (dim=2|id=898|\"S=1/2,Site,n=7\"), (dim=5|id=589|\"Link,l=7\"))\n",
       "[8] ((dim=5|id=589|\"Link,l=7\"), (dim=2|id=108|\"S=1/2,Site,n=8\"), (dim=4|id=250|\"Link,l=8\"))\n",
       "[9] ((dim=4|id=250|\"Link,l=8\"), (dim=2|id=142|\"S=1/2,Site,n=9\"), (dim=2|id=173|\"Link,l=9\"))\n",
       "[10] ((dim=2|id=173|\"Link,l=9\"), (dim=2|id=261|\"S=1/2,Site,n=10\"))\n"
      ]
     },
     "execution_count": 29,
     "metadata": {},
     "output_type": "execute_result"
    }
   ],
   "source": [
    "N = 10\n",
    "\n",
    "s = siteinds(\"S=1/2\", N)\n",
    "\n",
    "os = OpSum()\n",
    "for j in 1:(N - 1)\n",
    "    os += 0.5, \"S+\", j, \"S-\", j + 1\n",
    "    os += 0.5, \"S-\", j, \"S+\", j + 1\n",
    "    os += \"Sz\", j, \"Sz\", j + 1\n",
    "end\n",
    "\n",
    "H = MPO(os, s)\n",
    "#ψ = productMPS(s, n -> isodd(n) ? \"Up\" : \"Dn\")\n",
    "ψ=randomMPS(s; linkdims=5)\n",
    "#psi = productMPS(s, n -> isodd(n) ? \"Up\" : \"Dn\")\n",
    "\n",
    "\n",
    "for j=1:N\n",
    "    println(\"site : \",j,\" \",measure_Sz(ψ,j))\n",
    "end\n",
    "\n",
    "ψ4 = deepcopy(ψ)\n",
    "ψ5 = deepcopy(ψ)"
   ]
  },
  {
   "cell_type": "code",
   "execution_count": 30,
   "id": "7766d512",
   "metadata": {
    "ExecuteTime": {
     "end_time": "2022-06-22T20:36:49.953000+05:30",
     "start_time": "2022-06-22T15:06:47.538Z"
    }
   },
   "outputs": [
    {
     "name": "stdout",
     "output_type": "stream",
     "text": [
      "site : 1 -0.06324221027585208\n",
      "site : 2 -0.08319249356282586\n",
      "site : 3 0.15230262958309598\n",
      "site : 4 -0.027563664055177073\n",
      "site : 5 -0.022146009638662863\n",
      "site : 6 0.034787570267508186\n",
      "site : 7 0.131474722944442\n",
      "site : 8 0.04521449088671406\n",
      "site : 9 0.009025637665836238\n",
      "site : 10 0.020938594263018678\n"
     ]
    }
   ],
   "source": [
    "ψ1 = deepcopy(ψ)\n",
    "#2-site TDVP\n",
    "tdvp!(ψ1,H,0.05,0.5,2,true,exp_tol=1e-15)\n",
    "\n",
    "#Calculate magnetisation at all sites.\n",
    "for j=1:N\n",
    "    println(\"site : \",j,\" \",measure_Sz(ψ1,j))\n",
    "end\n",
    "\n"
   ]
  },
  {
   "cell_type": "code",
   "execution_count": 31,
   "id": "0b13abda",
   "metadata": {
    "ExecuteTime": {
     "end_time": "2022-06-22T20:36:50.946000+05:30",
     "start_time": "2022-06-22T15:06:49.157Z"
    },
    "scrolled": true
   },
   "outputs": [
    {
     "name": "stdout",
     "output_type": "stream",
     "text": [
      "site : 1 -0.06321011668137466\n",
      "site : 2 -0.083198463361948\n",
      "site : 3 0.15517413430676114\n",
      "site : 4 -0.029629525836572163\n",
      "site : 5 -0.024844965457750015\n",
      "site : 6 0.03943883131886296\n",
      "site : 7 0.1303777581909441\n",
      "site : 8 0.04352060209074908\n",
      "site : 9 0.009029904006076866\n",
      "site : 10 0.020928966281763328\n"
     ]
    }
   ],
   "source": [
    "ψ2 = deepcopy(ψ)\n",
    "\n",
    "#1-site TDVP\n",
    "tdvp!(ψ2,H,0.05,0.5,1,true,exp_tol=1e-15)\n",
    "\n",
    "#Calculate magnetisation at all sites.\n",
    "\n",
    "for j=1:N\n",
    "    println(\"site : \",j,\" \",measure_Sz(ψ2,j))\n",
    "end\n",
    "\n"
   ]
  },
  {
   "cell_type": "code",
   "execution_count": 32,
   "id": "3abf9d68",
   "metadata": {
    "ExecuteTime": {
     "end_time": "2022-06-22T20:36:59.944000+05:30",
     "start_time": "2022-06-22T15:06:59.297Z"
    }
   },
   "outputs": [
    {
     "name": "stdout",
     "output_type": "stream",
     "text": [
      "site : 1 0.022209808723027136\n",
      "site : 2 -0.040446203445030054\n",
      "site : 3 -0.03284297479568568\n",
      "site : 4 0.04941731644029565\n",
      "site : 5 0.02904772390251027\n",
      "site : 6 -0.01775256788520809\n",
      "site : 7 0.09260079278144856\n",
      "site : 8 0.07972537396473484\n",
      "site : 9 -0.04181980881456385\n",
      "site : 10 0.05745980846461334\n"
     ]
    }
   ],
   "source": [
    "#TEBD\n",
    "ψ3 = deepcopy(ψ)\n",
    "cutoff = 1e-15\n",
    "\n",
    "tau = 0.05\n",
    "ttotal = 2.0\n",
    "\n",
    "\n",
    "# Make gates (1,2),(2,3),(3,4),...\n",
    "gates = ITensor[]\n",
    "for j in 1:(N - 1)\n",
    "s1 = s[j]\n",
    "s2 = s[j + 1]\n",
    "hj =\n",
    "  op(\"Sz\", s1) * op(\"Sz\", s2) +\n",
    "  1 / 2 * op(\"S+\", s1) * op(\"S-\", s2) +\n",
    "  1 / 2 * op(\"S-\", s1) * op(\"S+\", s2)\n",
    "Gj = exp(-im * tau / 2 * hj)\n",
    "push!(gates, Gj)\n",
    "end\n",
    "# Include gates in reverse order too\n",
    "# (N,N-1),(N-1,N-2),...\n",
    "append!(gates, reverse(gates))\n",
    "c=div(N,2)\n",
    "\n",
    "for t in 0.0:tau:ttotal\n",
    "    Sz = expect(ψ3, \"Sz\"; sites=c)\n",
    "    #println(\"$t $Sz\")\n",
    "\n",
    "    t≈ttotal && break\n",
    "\n",
    "    ψ3 = apply(gates, ψ3; cutoff)\n",
    "    normalize!(ψ3)\n",
    "end\n",
    "\n",
    "\n",
    "#Measure magnetisation at each site\n",
    "for j=1:N\n",
    "    println(\"site : \",j,\" \",measure_Sz(ψ3,j))\n",
    "end\n",
    "\n"
   ]
  },
  {
   "cell_type": "code",
   "execution_count": 33,
   "id": "dc8b128f",
   "metadata": {
    "ExecuteTime": {
     "end_time": "2022-06-22T20:37:33.231000+05:30",
     "start_time": "2022-06-22T15:07:33.227Z"
    }
   },
   "outputs": [
    {
     "name": "stdout",
     "output_type": "stream",
     "text": [
      "0.9788245172257966 - 0.0017162145381004607im\n"
     ]
    }
   ],
   "source": [
    "println(inner(ψ1,ψ2))"
   ]
  },
  {
   "cell_type": "code",
   "execution_count": 34,
   "id": "abbeb1be",
   "metadata": {
    "ExecuteTime": {
     "end_time": "2022-06-22T20:37:34.253000+05:30",
     "start_time": "2022-06-22T15:07:34.249Z"
    }
   },
   "outputs": [
    {
     "name": "stdout",
     "output_type": "stream",
     "text": [
      "0.07962929082855466 - 0.16521934903086027im\n"
     ]
    }
   ],
   "source": [
    "println(inner(ψ1,ψ3))"
   ]
  },
  {
   "cell_type": "code",
   "execution_count": 35,
   "id": "c564088d",
   "metadata": {
    "ExecuteTime": {
     "end_time": "2022-06-22T20:37:38.284000+05:30",
     "start_time": "2022-06-22T15:07:38.280Z"
    }
   },
   "outputs": [
    {
     "name": "stdout",
     "output_type": "stream",
     "text": [
      "0.055446801325855874 - 0.16285621451414484im\n"
     ]
    }
   ],
   "source": [
    "println(inner(ψ2,ψ3))"
   ]
  },
  {
   "cell_type": "code",
   "execution_count": 36,
   "id": "c2e61db4",
   "metadata": {
    "ExecuteTime": {
     "end_time": "2022-06-22T20:37:42.875000+05:30",
     "start_time": "2022-06-22T15:07:42.789Z"
    }
   },
   "outputs": [
    {
     "name": "stdout",
     "output_type": "stream",
     "text": [
      "MPS\n",
      "[1] ((dim=2|id=605|\"S=1/2,Site,n=1\"), (dim=2|id=84|\"Link,n=1\"))\n",
      "[2] ((dim=2|id=84|\"Link,n=1\"), (dim=2|id=804|\"S=1/2,Site,n=2\"), (dim=4|id=812|\"Link,n=1\"))\n",
      "[3] ((dim=2|id=405|\"S=1/2,Site,n=3\"), (dim=8|id=601|\"Link,n=1\"), (dim=4|id=812|\"Link,n=1\"))\n",
      "[4] ((dim=2|id=121|\"S=1/2,Site,n=4\"), (dim=16|id=885|\"Link,n=1\"), (dim=8|id=601|\"Link,n=1\"))\n",
      "[5] ((dim=2|id=247|\"S=1/2,Site,n=5\"), (dim=32|id=410|\"Link,n=1\"), (dim=16|id=885|\"Link,n=1\"))\n",
      "[6] ((dim=2|id=294|\"S=1/2,Site,n=6\"), (dim=16|id=653|\"Link,n=1\"), (dim=32|id=410|\"Link,n=1\"))\n",
      "[7] ((dim=2|id=898|\"S=1/2,Site,n=7\"), (dim=8|id=553|\"Link,n=1\"), (dim=16|id=653|\"Link,n=1\"))\n",
      "[8] ((dim=2|id=108|\"S=1/2,Site,n=8\"), (dim=4|id=58|\"Link,n=1\"), (dim=8|id=553|\"Link,n=1\"))\n",
      "[9] ((dim=2|id=142|\"S=1/2,Site,n=9\"), (dim=2|id=679|\"Link,n=1\"), (dim=4|id=58|\"Link,n=1\"))\n",
      "[10] ((dim=2|id=261|\"S=1/2,Site,n=10\"), (dim=2|id=679|\"Link,n=1\"))\n",
      "\n"
     ]
    }
   ],
   "source": [
    "println(ψ3)"
   ]
  },
  {
   "cell_type": "code",
   "execution_count": null,
   "id": "3b627aa8",
   "metadata": {},
   "outputs": [],
   "source": []
  }
 ],
 "metadata": {
  "kernelspec": {
   "display_name": "Julia 1.7.2",
   "language": "julia",
   "name": "julia-1.7"
  },
  "language_info": {
   "file_extension": ".jl",
   "mimetype": "application/julia",
   "name": "julia",
   "version": "1.7.2"
  }
 },
 "nbformat": 4,
 "nbformat_minor": 5
}
