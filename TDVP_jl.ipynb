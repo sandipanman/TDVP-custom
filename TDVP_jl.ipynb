{
 "cells": [
  {
   "cell_type": "code",
   "execution_count": 46,
   "id": "212982ad",
   "metadata": {
    "ExecuteTime": {
     "end_time": "2022-06-22T20:43:50.664000+05:30",
     "start_time": "2022-06-22T15:13:50.661Z"
    }
   },
   "outputs": [],
   "source": [
    "\n",
    "using ITensors\n",
    "using ITensors: position!\n",
    "using KrylovKit\n",
    "using Printf\n"
   ]
  },
  {
   "cell_type": "markdown",
   "id": "02311b0f",
   "metadata": {},
   "source": [
    "# Simple TDVP\n",
    "\n",
    "Below is a code for a simple TDVP implementation (both for 1-site & 2-site variant). This is based on the ITensorTDVP. The function tdvp! takes the folllowing arguments.\n",
    "\n",
    "**Initial wavefunction** <br>\n",
    "**Hamiltonian :** (in MPO form) to time evolve the wave function<br>\n",
    "**dt(time step)** <br>\n",
    "**tf(final time )** : time upto which you want to evolve the system)<br>\n",
    "**reverse_step_val :** Decides whether you need the right-to-left swap (Changes the accuracy O(dt^3) for true,O(dt^2) for no)\n",
    "\n",
    "Time is entered as real for time evolution. The i is multiplied internally."
   ]
  },
  {
   "cell_type": "code",
   "execution_count": 47,
   "id": "1cbcce98",
   "metadata": {
    "ExecuteTime": {
     "end_time": "2022-06-22T20:43:52.035000+05:30",
     "start_time": "2022-06-22T15:13:51.992Z"
    }
   },
   "outputs": [
    {
     "data": {
      "text/plain": [
       "tdvp! (generic function with 1 method)"
      ]
     },
     "execution_count": 47,
     "metadata": {},
     "output_type": "execute_result"
    }
   ],
   "source": [
    "struct TDVP end\n",
    "set_nsite!(PH::ProjMPO,nsite) = (PH.nsite = nsite)\n",
    "\n",
    "function solver(H, t, psi0; kwargs...)\n",
    "    solver_kwargs = (;\n",
    "      ishermitian=get(kwargs, :ishermitian, true),\n",
    "      issymmetric=get(kwargs, :issymmetric, true),\n",
    "      tol=get(kwargs, :solver_tol, 1E-12),\n",
    "      krylovdim=get(kwargs, :solver_krylovdim, 30),\n",
    "      maxiter=get(kwargs, :solver_maxiter, 100),\n",
    "      verbosity=get(kwargs, :solver_outputlevel, 0),\n",
    "      eager=true,\n",
    "    )\n",
    "    psi, info = exponentiate(H, t, psi0; solver_kwargs...)\n",
    "    return psi, info\n",
    "end\n",
    "\n",
    "function measure_Sz(psi,n)\n",
    "    psi = ITensors.orthogonalize(psi,n)\n",
    "    sn = siteind(psi,n)\n",
    "    Sz = scalar(dag(prime(psi[n],\"Site\"))*op(\"Sz\",sn)*psi[n])\n",
    "    return real(Sz)\n",
    "end\n",
    "\n",
    "\n",
    "function tdvp!(ψ::MPS,H::MPO,dt::Float64,tf::Float64,nsite::Int64,reverse_step_val; kwargs...)\n",
    "    \n",
    "    num_time_steps = Int(tf/dt)\n",
    "    \n",
    "    #kwargs\n",
    "   \n",
    "    #The error tolerance for `KrylovKit.exponentiate`\n",
    "    exp_tol = get(kwargs,:exp_tol, 1e-14)\n",
    "    #Passed to KrylovKit\n",
    "    krylovdim = get(kwargs,:krylovdim, 30 )\n",
    "    maxiter = get(kwargs,:maxiter,100)\n",
    "    normalize = get(kwargs,:normalize,true)\n",
    "    #Is the Hamiltonian H hermitian? Useful to KrylovKit for exponentiation\n",
    "    hermitian = get(kwargs,:hermitian,true)\n",
    "    \n",
    "    maxdim::Integer = get(kwargs, :maxdim, typemax(Int))\n",
    "    mindim::Integer = get(kwargs, :mindim, 1)\n",
    "    cutoff::Real = get(kwargs, :cutoff, 1E-16)\n",
    "    \n",
    "    #If progress bar is used\n",
    "    #pbar = get(kwargs,:progress, true) ? Progress(num_time_steps, desc=\"Evolving state... \") : nothing\n",
    "    \n",
    "   #Imaginary time step\n",
    "    τ = 1im*dt\n",
    "    \n",
    "    N = length(ψ)\n",
    "    #start with right orthogonalised wave function\n",
    "    ITensors.orthogonalize!(ψ,1)\n",
    "    \n",
    "    #Projected MPO\n",
    "    #https://docs.juliahub.com/ITensors/P3pqL/0.1.7/ProjMPO.html\n",
    "    \n",
    "    PH = ProjMPO(H)\n",
    "    position!(PH,ψ,1)\n",
    "    \n",
    "    \n",
    "    \n",
    "    set_nsite!(PH, nsite)\n",
    "    \n",
    "    \n",
    "    maxtruncerr = 0.0\n",
    "    \n",
    "    \n",
    "    #Do the time evolution\n",
    "    for time_step in 1:num_time_steps\n",
    "        stime  = @elapsed begin\n",
    "        # b is the active site  ha gives 1/2 depending on right/left swap\n",
    "        current_time = dt*time_step\n",
    "        for (b,ha) in sweepnext(N; ncenter=nsite)\n",
    "                # Do 'forwards' evolution step\n",
    "                \n",
    "                \n",
    "                set_nsite!(PH, nsite)\n",
    "                #orthogonalise at position b\n",
    "                \n",
    "                position!(PH, ψ, b)\n",
    "                if nsite == 1\n",
    "                  #println(\" Forward phi1 Selected\")\n",
    "                  phi1 = ψ[b]\n",
    "                elseif nsite == 2\n",
    "                  phi1 = ψ[b] * ψ[b + 1]\n",
    "                end\n",
    "\n",
    "                \n",
    "                #orthogonalise at position b\n",
    "                \n",
    "                #phi1, info = exponentiate(PH, -τ/2, phi1; ishermitian=hermitian , tol=exp_tol, krylovdim=krylovdim)\n",
    "                phi1, info = solver(PH, -τ/2, phi1)\n",
    "                info.converged==0 && throw(\"exponentiate did not converge\")\n",
    "                \n",
    "                spec = nothing\n",
    "                \n",
    "                \n",
    "                if nsite == 1\n",
    "                  ψ[b] = phi1\n",
    "                  Sz = measure_Sz(ψ,b) \n",
    "                  #@printf(\"Sweep %d,  Sz %f ----------------------------\\n\", time_step , Sz)\n",
    "                  flush(stdout)\n",
    "                  #println(\" Forward phi1 Replaced\")\n",
    "                elseif nsite == 2\n",
    "                  #Determine sweep direction\n",
    "                  dir = ha == 1 ? \"left\" : \"right\"\n",
    "                  spec = replacebond!(ψ,b,phi1;mindim,cutoff,normalize=normalize, ortho = dir, kwargs... )\n",
    "                  maxtruncerr = max(maxtruncerr, spec.truncerr)\n",
    "                end\n",
    "                \n",
    "                if(reverse_step_val == true)\n",
    "                    if ((ha == 1 && (b + nsite - 1 != N)) || (ha == 2 && b != 1))\n",
    "\n",
    "\n",
    "                        b1 = (ha==1 ? b + 1 : b)\n",
    "                        Δ = (ha==1 ? +1 : -1)\n",
    "\n",
    "                        if nsite == 2\n",
    "                            phi0 = ψ[b1]\n",
    "                        elseif nsite == 1\n",
    "                            #println(\" SVD\")\n",
    "                            uinds = uniqueinds(phi1, ψ[b + Δ])\n",
    "                            U, S, V = svd(phi1, uinds)\n",
    "                            ψ[b] = U\n",
    "                            phi0 = S * V\n",
    "                            if ha == 1\n",
    "                              ITensors.setleftlim!(ψ, b)\n",
    "                            elseif ha == 2\n",
    "                              ITensors.setrightlim!(ψ, b)\n",
    "                            end\n",
    "                        end\n",
    "\n",
    "                        # evolve with single-site Hamiltonian backward in time.\n",
    "                        # In the case of imaginary time-evolution this step\n",
    "                        # is not necessary (see Ref. [1])\n",
    "\n",
    "\n",
    "\n",
    "\n",
    "                        set_nsite!(PH, nsite - 1)\n",
    "                        ITensors.position!(PH, ψ, b1)\n",
    "                        phi0, info = exponentiate(PH, τ/2, phi0; ishermitian=hermitian , tol=exp_tol, krylovdim=krylovdim)\n",
    "                        normalize && (phi0 ./= norm(phi0))\n",
    "                        info.converged==0 && throw(\"exponentiate did not converge\")\n",
    "\n",
    "\n",
    "                        if nsite == 2\n",
    "                            ψ[b1] = phi0\n",
    "                            #print(\" Reverse phi  calculated\")\n",
    "                        elseif nsite == 1\n",
    "                            #println(\" Reverse phi  calculated\")\n",
    "                            ψ[b + Δ] = phi0 * ψ[b + Δ]\n",
    "                            if ha == 1\n",
    "                              ITensors.setrightlim!(ψ, b + Δ + 1)\n",
    "                            elseif ha == 2\n",
    "                              ITensors.setleftlim!(ψ, b + Δ - 1)\n",
    "                            end\n",
    "                        end\n",
    "\n",
    "                        set_nsite!(PH, nsite)\n",
    "\n",
    "\n",
    "\n",
    "                    end\n",
    "                    #if ((ha == 1 && (b + nsite - 1 != N)) || (ha == 2 && b != 1))\n",
    "                end\n",
    "                #for if(reverse_step_val == true)\n",
    "        end\n",
    "        #for(b,ha)\n",
    "            \n",
    "            #Sz = measure_Sz(ψ,5) \n",
    "            #@printf(\"Sweep %d,  Sz %f ----------------------------\\n\", time_step , Sz)\n",
    "            flush(stdout)\n",
    "\n",
    "        \n",
    "        end\n",
    "        #time elapsed\n",
    "        \n",
    "        \n",
    "       \n",
    "        \n",
    "    end\n",
    "    #External for loop for time_step\n",
    "    \n",
    "    ψ=ψ/norm(ψ)\n",
    "end\n",
    "#function\n"
   ]
  },
  {
   "cell_type": "code",
   "execution_count": 68,
   "id": "b16c1ec4",
   "metadata": {
    "ExecuteTime": {
     "end_time": "2022-06-22T20:48:33.397000+05:30",
     "start_time": "2022-06-22T15:18:33.320Z"
    },
    "scrolled": true
   },
   "outputs": [
    {
     "name": "stdout",
     "output_type": "stream",
     "text": [
      "site : 1 0.2367518444967298\n",
      "site : 2 0.08275176239449578\n",
      "site : 3 0.2059104869685403\n",
      "site : 4 0.038021509776564544\n",
      "site : 5 0.16951189208694806\n",
      "site : 6 0.12788123018316128\n",
      "site : 7 0.19684781054143535\n",
      "site : 8 0.012635597866778106\n",
      "site : 9 0.05089615323377697\n",
      "site : 10 -0.11185920944766875\n"
     ]
    },
    {
     "data": {
      "text/plain": [
       "MPS\n",
       "[1] ((dim=2|id=922|\"S=1/2,Site,n=1\"), (dim=5|id=95|\"Link,l=1\"))\n",
       "[2] ((dim=5|id=95|\"Link,l=1\"), (dim=2|id=308|\"S=1/2,Site,n=2\"), (dim=5|id=785|\"Link,l=2\"))\n",
       "[3] ((dim=5|id=785|\"Link,l=2\"), (dim=2|id=243|\"S=1/2,Site,n=3\"), (dim=5|id=492|\"Link,l=3\"))\n",
       "[4] ((dim=5|id=492|\"Link,l=3\"), (dim=2|id=33|\"S=1/2,Site,n=4\"), (dim=5|id=554|\"Link,l=4\"))\n",
       "[5] ((dim=5|id=554|\"Link,l=4\"), (dim=2|id=188|\"S=1/2,Site,n=5\"), (dim=5|id=592|\"Link,l=5\"))\n",
       "[6] ((dim=5|id=592|\"Link,l=5\"), (dim=2|id=868|\"S=1/2,Site,n=6\"), (dim=5|id=595|\"Link,l=6\"))\n",
       "[7] ((dim=5|id=595|\"Link,l=6\"), (dim=2|id=25|\"S=1/2,Site,n=7\"), (dim=5|id=303|\"Link,l=7\"))\n",
       "[8] ((dim=5|id=303|\"Link,l=7\"), (dim=2|id=289|\"S=1/2,Site,n=8\"), (dim=4|id=210|\"Link,l=8\"))\n",
       "[9] ((dim=4|id=210|\"Link,l=8\"), (dim=2|id=110|\"S=1/2,Site,n=9\"), (dim=2|id=329|\"Link,l=9\"))\n",
       "[10] ((dim=2|id=329|\"Link,l=9\"), (dim=2|id=152|\"S=1/2,Site,n=10\"))\n"
      ]
     },
     "execution_count": 68,
     "metadata": {},
     "output_type": "execute_result"
    }
   ],
   "source": [
    "#Number of spin 1/2 sites\n",
    "N = 10\n",
    "\n",
    "#fnal time\n",
    "tf = 2.0\n",
    "#time step\n",
    "tau = 0.05\n",
    "\n",
    "\n",
    "s = siteinds(\"S=1/2\", N)\n",
    "\n",
    "os = OpSum()\n",
    "for j in 1:(N - 1)\n",
    "    os += 0.5, \"S+\", j, \"S-\", j + 1\n",
    "    os += 0.5, \"S-\", j, \"S+\", j + 1\n",
    "    os += \"Sz\", j, \"Sz\", j + 1\n",
    "end\n",
    "\n",
    "H = MPO(os, s)\n",
    "#ψ = productMPS(s, n -> isodd(n) ? \"Up\" : \"Dn\")\n",
    "ψ=randomMPS(s; linkdims=5)\n",
    "#psi = productMPS(s, n -> isodd(n) ? \"Up\" : \"Dn\")\n",
    "\n",
    "\n",
    "for j=1:N\n",
    "    println(\"site : \",j,\" \",measure_Sz(ψ,j))\n",
    "end\n",
    "\n",
    "ψ4 = deepcopy(ψ)\n",
    "ψ5 = deepcopy(ψ)"
   ]
  },
  {
   "cell_type": "code",
   "execution_count": 69,
   "id": "7766d512",
   "metadata": {
    "ExecuteTime": {
     "end_time": "2022-06-22T20:48:42.646000+05:30",
     "start_time": "2022-06-22T15:18:34.150Z"
    }
   },
   "outputs": [
    {
     "name": "stdout",
     "output_type": "stream",
     "text": [
      "site : 1 0.12770447306376845\n",
      "site : 2 0.21019161741908254\n",
      "site : 3 0.15914259370150205\n",
      "site : 4 0.10037771017381955\n",
      "site : 5 0.08248028628260747\n",
      "site : 6 0.19266048362443683\n",
      "site : 7 0.09429664665785806\n",
      "site : 8 0.006161759939219462\n",
      "site : 9 0.07529687874110505\n",
      "site : 10 -0.038963372749321934\n"
     ]
    }
   ],
   "source": [
    "ψ1 = deepcopy(ψ)\n",
    "#2-site TDVP\n",
    "tdvp!(ψ1,H,tau,tf,2,true,exp_tol=1e-15)\n",
    "\n",
    "#Calculate magnetisation at all sites.\n",
    "for j=1:N\n",
    "    println(\"site : \",j,\" \",measure_Sz(ψ1,j))\n",
    "end\n",
    "\n"
   ]
  },
  {
   "cell_type": "code",
   "execution_count": 70,
   "id": "0b13abda",
   "metadata": {
    "ExecuteTime": {
     "end_time": "2022-06-22T20:48:47.735000+05:30",
     "start_time": "2022-06-22T15:18:44.292Z"
    },
    "scrolled": true
   },
   "outputs": [
    {
     "name": "stdout",
     "output_type": "stream",
     "text": [
      "site : 1 0.1277520510839415\n",
      "site : 2 0.20929808151577356\n",
      "site : 3 0.15791094898215063\n",
      "site : 4 0.10387127168738519\n",
      "site : 5 0.0708390696374756\n",
      "site : 6 0.2663160888517819\n",
      "site : 7 0.06908137591752601\n",
      "site : 8 -0.03558553255901245\n",
      "site : 9 0.07716741339426948\n",
      "site : 10 -0.03733449502191398\n"
     ]
    }
   ],
   "source": [
    "ψ2 = deepcopy(ψ)\n",
    "\n",
    "#1-site TDVP\n",
    "tdvp!(ψ2,H,tau,tf,1,true,exp_tol=1e-15)\n",
    "\n",
    "#Calculate magnetisation at all sites.\n",
    "\n",
    "for j=1:N\n",
    "    println(\"site : \",j,\" \",measure_Sz(ψ2,j))\n",
    "end\n",
    "\n"
   ]
  },
  {
   "cell_type": "code",
   "execution_count": 71,
   "id": "b6da530b",
   "metadata": {
    "ExecuteTime": {
     "end_time": "2022-06-22T20:48:52.766000+05:30",
     "start_time": "2022-06-22T15:18:52.169Z"
    }
   },
   "outputs": [
    {
     "name": "stdout",
     "output_type": "stream",
     "text": [
      "site : 1 0.12771333771534496\n",
      "site : 2 0.21019555250078462\n",
      "site : 3 0.1591292496272938\n",
      "site : 4 0.10036877534163866\n",
      "site : 5 0.08248293940361821\n",
      "site : 6 0.19268537337812414\n",
      "site : 7 0.09428973007312696\n",
      "site : 8 0.006149644215676563\n",
      "site : 9 0.07528376580162\n",
      "site : 10 -0.03894928995646885\n"
     ]
    }
   ],
   "source": [
    "#TEBD\n",
    "ψ3 = deepcopy(ψ)\n",
    "cutoff = 1e-15\n",
    "\n",
    "\n",
    "ttotal = tf\n",
    "\n",
    "\n",
    "# Make gates (1,2),(2,3),(3,4),...\n",
    "gates = ITensor[]\n",
    "for j in 1:(N - 1)\n",
    "s1 = s[j]\n",
    "s2 = s[j + 1]\n",
    "hj =\n",
    "  op(\"Sz\", s1) * op(\"Sz\", s2) +\n",
    "  1 / 2 * op(\"S+\", s1) * op(\"S-\", s2) +\n",
    "  1 / 2 * op(\"S-\", s1) * op(\"S+\", s2)\n",
    "Gj = exp(-im * tau / 2 * hj)\n",
    "push!(gates, Gj)\n",
    "end\n",
    "# Include gates in reverse order too\n",
    "# (N,N-1),(N-1,N-2),...\n",
    "append!(gates, reverse(gates))\n",
    "c=div(N,2)\n",
    "\n",
    "for t in 0.0:tau:ttotal\n",
    "    Sz = expect(ψ3, \"Sz\"; sites=c)\n",
    "    #println(\"$t $Sz\")\n",
    "\n",
    "    t≈ttotal && break\n",
    "\n",
    "    ψ3 = apply(gates, ψ3; cutoff)\n",
    "    normalize!(ψ3)\n",
    "end\n",
    "\n",
    "\n",
    "#Measure magnetisation at each site\n",
    "for j=1:N\n",
    "    println(\"site : \",j,\" \",measure_Sz(ψ3,j))\n",
    "end\n",
    "\n"
   ]
  },
  {
   "cell_type": "code",
   "execution_count": 72,
   "id": "dc8b128f",
   "metadata": {
    "ExecuteTime": {
     "end_time": "2022-06-22T20:48:54.757000+05:30",
     "start_time": "2022-06-22T15:18:54.753Z"
    }
   },
   "outputs": [
    {
     "name": "stdout",
     "output_type": "stream",
     "text": [
      "0.8510057331882442 - 0.012950845270412972im\n"
     ]
    }
   ],
   "source": [
    "println(inner(ψ1,ψ2))"
   ]
  },
  {
   "cell_type": "code",
   "execution_count": 73,
   "id": "abbeb1be",
   "metadata": {
    "ExecuteTime": {
     "end_time": "2022-06-22T20:48:56.425000+05:30",
     "start_time": "2022-06-22T15:18:56.419Z"
    }
   },
   "outputs": [
    {
     "name": "stdout",
     "output_type": "stream",
     "text": [
      "0.9999999582363946 - 4.363410730345851e-6im\n"
     ]
    }
   ],
   "source": [
    "println(inner(ψ1,ψ3))"
   ]
  },
  {
   "cell_type": "code",
   "execution_count": 74,
   "id": "c564088d",
   "metadata": {
    "ExecuteTime": {
     "end_time": "2022-06-22T20:48:57.785000+05:30",
     "start_time": "2022-06-22T15:18:57.781Z"
    }
   },
   "outputs": [
    {
     "name": "stdout",
     "output_type": "stream",
     "text": [
      "0.8510288640230905 + 0.012940034198475059im\n"
     ]
    }
   ],
   "source": [
    "println(inner(ψ2,ψ3))"
   ]
  },
  {
   "cell_type": "code",
   "execution_count": 55,
   "id": "c2e61db4",
   "metadata": {
    "ExecuteTime": {
     "end_time": "2022-06-22T20:45:08.417000+05:30",
     "start_time": "2022-06-22T15:15:08.414Z"
    }
   },
   "outputs": [
    {
     "name": "stdout",
     "output_type": "stream",
     "text": [
      "MPS\n",
      "[1] ((dim=2|id=989|\"S=1/2,Site,n=1\"), (dim=2|id=587|\"Link,n=1\"))\n",
      "[2] ((dim=2|id=587|\"Link,n=1\"), (dim=2|id=750|\"S=1/2,Site,n=2\"), (dim=4|id=977|\"Link,n=1\"))\n",
      "[3] ((dim=2|id=528|\"S=1/2,Site,n=3\"), (dim=8|id=844|\"Link,n=1\"), (dim=4|id=977|\"Link,n=1\"))\n",
      "[4] ((dim=2|id=923|\"S=1/2,Site,n=4\"), (dim=16|id=715|\"Link,n=1\"), (dim=8|id=844|\"Link,n=1\"))\n",
      "[5] ((dim=2|id=707|\"S=1/2,Site,n=5\"), (dim=31|id=329|\"Link,n=1\"), (dim=16|id=715|\"Link,n=1\"))\n",
      "[6] ((dim=2|id=383|\"S=1/2,Site,n=6\"), (dim=16|id=683|\"Link,n=1\"), (dim=31|id=329|\"Link,n=1\"))\n",
      "[7] ((dim=2|id=571|\"S=1/2,Site,n=7\"), (dim=8|id=153|\"Link,n=1\"), (dim=16|id=683|\"Link,n=1\"))\n",
      "[8] ((dim=2|id=210|\"S=1/2,Site,n=8\"), (dim=4|id=946|\"Link,n=1\"), (dim=8|id=153|\"Link,n=1\"))\n",
      "[9] ((dim=2|id=912|\"S=1/2,Site,n=9\"), (dim=2|id=506|\"Link,n=1\"), (dim=4|id=946|\"Link,n=1\"))\n",
      "[10] ((dim=2|id=462|\"S=1/2,Site,n=10\"), (dim=2|id=506|\"Link,n=1\"))\n",
      "\n"
     ]
    }
   ],
   "source": [
    "println(ψ3)"
   ]
  },
  {
   "cell_type": "code",
   "execution_count": null,
   "id": "3b627aa8",
   "metadata": {},
   "outputs": [],
   "source": []
  }
 ],
 "metadata": {
  "kernelspec": {
   "display_name": "Julia 1.7.2",
   "language": "julia",
   "name": "julia-1.7"
  },
  "language_info": {
   "file_extension": ".jl",
   "mimetype": "application/julia",
   "name": "julia",
   "version": "1.7.2"
  }
 },
 "nbformat": 4,
 "nbformat_minor": 5
}
