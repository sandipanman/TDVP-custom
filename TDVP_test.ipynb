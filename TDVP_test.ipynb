{
 "cells": [
  {
   "cell_type": "code",
   "execution_count": 17,
   "id": "8c0cc159",
   "metadata": {
    "ExecuteTime": {
     "end_time": "2022-06-12T20:04:20.243000+05:30",
     "start_time": "2022-06-12T14:34:17.778Z"
    }
   },
   "outputs": [],
   "source": [
    "using ITensors\n",
    "using ITensors: position!\n",
    "using ITensorTDVP\n",
    "using KrylovKit\n",
    "using Printf\n",
    "\n",
    "using ProgressMeter\n",
    "#ProgressMeter.ijulia_behavior(:append)\n"
   ]
  },
  {
   "cell_type": "code",
   "execution_count": 18,
   "id": "3bdea275",
   "metadata": {},
   "outputs": [
    {
     "data": {
      "text/plain": [
       "measure_Sz (generic function with 1 method)"
      ]
     },
     "execution_count": 18,
     "metadata": {},
     "output_type": "execute_result"
    }
   ],
   "source": [
    "function measure_Sz(psi,n)\n",
    "    psi = ITensors.orthogonalize(psi,n)\n",
    "    sn = siteind(psi,n)\n",
    "    Sz = scalar(dag(prime(psi[n],\"Site\"))*op(\"Sz\",sn)*psi[n])\n",
    "    return real(Sz)\n",
    "end"
   ]
  },
  {
   "cell_type": "code",
   "execution_count": 27,
   "id": "94ef3a30",
   "metadata": {},
   "outputs": [
    {
     "data": {
      "text/plain": [
       "tdvp!"
      ]
     },
     "execution_count": 27,
     "metadata": {},
     "output_type": "execute_result"
    }
   ],
   "source": [
    "export tdvp!\n",
    "using ITensors: position!\n",
    "\n",
    "singlesite!(PH::ProjMPO) = (PH.nsite = 1)\n",
    "twosite!(PH::ProjMPO) = (PH.nsite = 2)\n",
    "\n",
    "struct TDVP2 end\n",
    "\n",
    "\"\"\"\n",
    "    tdvp!(psi,H::MPO,dt,tf; kwargs...)\n",
    "Evolve the MPS `psi` up to time `tf` using the two-site time-dependent variational\n",
    "principle as described in Ref. [1].\n",
    "# Keyword arguments:\n",
    "All keyword arguments controlling truncation which are accepted by ITensors.replaceBond!,\n",
    "namely:\n",
    "- `maxdim::Int`: If specified, keep only `maxdim` largest singular values after applying gate.\n",
    "- `mindim::Int`: Minimal number of singular values to keep if truncation is performed according to\n",
    "    value specified by `cutoff`.\n",
    "- `cutoff::Float`: If specified, keep the minimal number of singular-values such that the discarded weight is\n",
    "    smaller than `cutoff` (but bond dimension will be kept smaller than `maxdim`).\n",
    "- `absoluteCutoff::Bool`: If `true` truncate all singular-values whose square is smaller than `cutoff`.\n",
    "In addition the following keyword arguments are supported:\n",
    "- `hermitian::Bool` (`true`) : whether the MPO `H` represents an Hermitian operator. This will be passed to the\n",
    "    Krylov exponentiation routine (`KrylovKit.exponentiate`) which will in turn use a Lancosz algorithm in the\n",
    "    case of an hermitian operator.\n",
    "- `exp_tol::Float` (1e-14) : The error tolerance for `KrylovKit.exponentiate`.\n",
    "    (note that default value was not optimized yet, so you might want to play around with it)\n",
    "- `progress::Bool` (`true`) : If `true` a progress bar will be displayed\n",
    "# References:\n",
    "[1] Haegeman, J., Lubich, C., Oseledets, I., Vandereycken, B., & Verstraete, F. (2016).\n",
    "Unifying time evolution and optimization with matrix product states. Physical Review B, 94(16).\n",
    "https://doi.org/10.1103/PhysRevB.94.165116\n",
    "\"\"\"\n",
    "function tdvp!(psi,H::MPO,dt,tf; kwargs...)\n",
    "    nsteps = Int(tf/dt)\n",
    "    #cb = get(kwargs,:callback, NoTEvoCallback())\n",
    "    hermitian = get(kwargs,:hermitian,true)\n",
    "    exp_tol = get(kwargs,:exp_tol, 1e-14)\n",
    "    krylovdim = get(kwargs,:krylovdim, 30 )\n",
    "    maxiter = get(kwargs,:maxiter,100)\n",
    "    normalize = get(kwargs,:normalize,true)\n",
    "\n",
    "    pbar = get(kwargs,:progress, true) ? Progress(nsteps, desc=\"Evolving state... \") : nothing\n",
    "    τ = 1im*dt\n",
    "    imag(τ) == 0 && (τ = real(τ))\n",
    "\n",
    "    N = length(psi)\n",
    "    ITensors.orthogonalize!(psi,1)\n",
    "    PH = ProjMPO(H)\n",
    "    position!(PH,psi,1)\n",
    "    for s in 1:nsteps\n",
    "        stime = @elapsed begin\n",
    "        for (b,ha) in sweepnext(N)\n",
    "            #evolve with two-site Hamiltonian\n",
    "            twosite!(PH)\n",
    "            ITensors.position!(PH,psi,b)\n",
    "            wf = psi[b]*psi[b+1]\n",
    "            wf, info = exponentiate(PH, -τ/2, wf; ishermitian=hermitian , tol=exp_tol, krylovdim=krylovdim)\n",
    "            dir = ha==1 ? \"left\" : \"right\"\n",
    "            info.converged==0 && throw(\"exponentiate did not converge\")\n",
    "            spec = replacebond!(psi,b,wf;normalize=normalize, ortho = dir, kwargs... )\n",
    "            # normalize && ( psi[dir==\"left\" ? b+1 : b] /= sqrt(sum(eigs(spec))) )\n",
    "            #=\n",
    "            apply!(cb,psi; t=s*dt,\n",
    "                   bond=b,\n",
    "                   sweepend= ha==2,\n",
    "                   sweepdir= ha==1 ? \"right\" : \"left\",\n",
    "                   spec=spec,\n",
    "                   alg=TDVP2())\n",
    "            =#\n",
    "\n",
    "            # evolve with single-site Hamiltonian backward in time.\n",
    "            # In the case of imaginary time-evolution this step\n",
    "            # is not necessary (see Ref. [1])\n",
    "            i = ha==1 ? b+1 : b\n",
    "            if 1<i<N && !(dt isa Complex)\n",
    "                singlesite!(PH)\n",
    "                ITensors.position!(PH,psi,i)\n",
    "                psi[i], info = exponentiate(PH,τ/2,psi[i]; ishermitian=hermitian, tol=exp_tol, krylovdim=krylovdim,\n",
    "                                            maxiter=maxiter)\n",
    "                info.converged==0 && throw(\"exponentiate did not converge\")\n",
    "            elseif i==1 && dt isa Complex\n",
    "                # TODO not sure if this is necessary anymore\n",
    "                psi[i] /= sqrt(real(scalar(dag(psi[i])*psi[i])))\n",
    "            end\n",
    "\n",
    "        end\n",
    "        end\n",
    "        !isnothing(pbar) && ProgressMeter.next!(pbar, showvalues=[(\"t\", dt*s),\n",
    "                                                                  (\"dt step time\", round(stime,digits=3)),\n",
    "                                                                  (\"Max bond-dim\", maxlinkdim(psi))])\n",
    "        #checkdone!(cb) && break\n",
    "    end\n",
    "end"
   ]
  },
  {
   "cell_type": "code",
   "execution_count": 28,
   "id": "72771f23",
   "metadata": {},
   "outputs": [
    {
     "name": "stdout",
     "output_type": "stream",
     "text": [
      "site : 1 0.27902255077953314\n",
      "site : 2 0.11817057880196195\n",
      "site : 3 -0.1699914253375467\n",
      "site : 4 -0.11250046529889368\n",
      "site : 5 -0.06599371885151037\n",
      "site : 6 -0.03204545340132578\n",
      "site : 7 0.05619019903028113\n",
      "site : 8 0.03549310258727675\n",
      "site : 9 -0.08882634724034837\n",
      "site : 10 -0.05604017443275978\n",
      "site : 11 -0.07076978946509876\n",
      "site : 12 0.07593901185729657\n",
      "site : 13 -0.024272228754986722\n",
      "site : 14 0.07978853217244722\n",
      "site : 15 0.01457790322514336\n"
     ]
    }
   ],
   "source": [
    "N = 15\n",
    "\n",
    "s = siteinds(\"S=1/2\", N)\n",
    "\n",
    "os = OpSum()\n",
    "for j in 1:(N - 1)\n",
    "    os += 0.5, \"S+\", j, \"S-\", j + 1\n",
    "    os += 0.5, \"S-\", j, \"S+\", j + 1\n",
    "    os += \"Sz\", j, \"Sz\", j + 1\n",
    "end\n",
    "\n",
    "H = MPO(os, s)\n",
    "#ψ = productMPS(s, n -> isodd(n) ? \"Up\" : \"Dn\")\n",
    "ψ=randomMPS(s; linkdims=5)\n",
    "#psi = productMPS(s, n -> isodd(n) ? \"Up\" : \"Dn\")\n",
    "\n",
    "\n",
    "for j=1:N\n",
    "    println(\"site : \",j,\" \",measure_Sz(ψ,j))\n",
    "end\n"
   ]
  },
  {
   "cell_type": "code",
   "execution_count": 29,
   "id": "976fee30",
   "metadata": {},
   "outputs": [
    {
     "name": "stderr",
     "output_type": "stream",
     "text": [
      "┌ Warning: ProgressMeter by default refresh meters with additional information in IJulia via `IJulia.clear_output`, which clears all outputs in the cell. \n",
      "│  - To prevent this behaviour, do `ProgressMeter.ijulia_behavior(:append)`. \n",
      "│  - To disable this warning message, do `ProgressMeter.ijulia_behavior(:clear)`.\n",
      "└ @ ProgressMeter /home/sandipan/.julia/packages/ProgressMeter/sN2xr/src/ProgressMeter.jl:618\n",
      "\r",
      "\u001b[32mEvolving state... 100%|█████████████████████████████████| Time: 0:05:07\u001b[39m\r\n",
      "\u001b[34m  t:             5.0\u001b[39m\r\n",
      "\u001b[34m  dt step time:  3.201\u001b[39m\r\n",
      "\u001b[34m  Max bond-dim:  128\u001b[39m\n"
     ]
    },
    {
     "name": "stdout",
     "output_type": "stream",
     "text": [
      "site : 1 0.04278362893220084\n",
      "site : 2 0.031842079281770685\n",
      "site : 3 0.04903011341452134\n",
      "site : 4 0.007806360650385813\n",
      "site : 5 -0.025089162869784746\n",
      "site : 6 -0.01881147052875\n",
      "site : 7 -0.015809634361544384\n",
      "site : 8 -0.04619067504831747\n",
      "site : 9 -0.014559288336780416\n",
      "site : 10 -0.025351996781418185\n",
      "site : 11 -0.008724494388648764\n",
      "site : 12 0.007830775831951464\n",
      "site : 13 1.6346352104967994e-5\n",
      "site : 14 0.05222041976888438\n",
      "site : 15 0.0017492709739197476\n"
     ]
    }
   ],
   "source": [
    "ψ1 = deepcopy(ψ)\n",
    "#2-site TDVP\n",
    "tdvp!(ψ1,H::MPO,0.05,5)\n",
    "\n",
    "#Calculate magnetisation at all sites.\n",
    "for j=1:N\n",
    "    println(\"site : \",j,\" \",measure_Sz(ψ1,j))\n",
    "end\n",
    "\n",
    "site : 1 0.27902255077953314\n",
    "site : 2 0.11817057880196195\n",
    "site : 3 -0.1699914253375467\n",
    "site : 4 -0.11250046529889368\n",
    "site : 5 -0.06599371885151037\n",
    "site : 6 -0.03204545340132578\n",
    "site : 7 0.05619019903028113\n",
    "site : 8 0.03549310258727675\n",
    "site : 9 -0.08882634724034837\n",
    "site : 10 -0.05604017443275978\n",
    "site : 11 -0.07076978946509876\n",
    "site : 12 0.07593901185729657\n",
    "site : 13 -0.024272228754986722\n",
    "site : 14 0.07978853217244722\n",
    "site : 15 0.01457790322514336"
   ]
  },
  {
   "cell_type": "code",
   "execution_count": 30,
   "id": "df447bb8",
   "metadata": {},
   "outputs": [
    {
     "name": "stdout",
     "output_type": "stream",
     "text": [
      "site : 1 0.27902255077953314\n",
      "site : 2 0.11817057880196195\n",
      "site : 3 -0.1699914253375467\n",
      "site : 4 -0.11250046529889368\n",
      "site : 5 -0.06599371885151037\n",
      "site : 6 -0.03204545340132578\n",
      "site : 7 0.05619019903028113\n",
      "site : 8 0.03549310258727675\n",
      "site : 9 -0.08882634724034837\n",
      "site : 10 -0.05604017443275978\n",
      "site : 11 -0.07076978946509876\n",
      "site : 12 0.07593901185729657\n",
      "site : 13 -0.024272228754986722\n",
      "site : 14 0.07978853217244722\n",
      "site : 15 0.01457790322514336\n"
     ]
    }
   ],
   "source": [
    "ψ3 = deepcopy(ψ)\n",
    "cutoff = 1e-15\n",
    "\n",
    "ttotal = 0.5\n",
    "tau = 0.05\n",
    "current_time = 0\n",
    "Nsteps = Int(ttotal/tau)\n",
    "\n",
    "gates = ITensor[]\n",
    "  for j=1:N-1\n",
    "    s1 = s[j]\n",
    "    s2 = s[j+1]\n",
    "    hj =       op(\"Sz\",s1) * op(\"Sz\",s2) +\n",
    "         1/2 * op(\"S+\",s1) * op(\"S-\",s2) +\n",
    "         1/2 * op(\"S-\",s1) * op(\"S+\",s2)\n",
    "    Gj = exp(-1.0im * tau/2 * hj)\n",
    "    push!(gates,Gj)\n",
    "  end\n",
    "\n",
    "\n",
    "append!(gates,reverse(gates))\n",
    "\n",
    "\n",
    "\n",
    "for step=1:Nsteps\n",
    "    psi = apply(gates, ψ3; cutoff=cutoff)\n",
    "    current_time += tau\n",
    "    Sz = measure_Sz(ψ3,5)\n",
    "    #println(\"$current_time   $Sz\")\n",
    "end\n",
    "\n",
    "\n",
    "#Calculate magnetisation at all sites.\n",
    "\n",
    "for j=1:N\n",
    "    println(\"site : \",j,\" \",measure_Sz(ψ3,j))\n",
    "end\n",
    "\n"
   ]
  },
  {
   "cell_type": "code",
   "execution_count": null,
   "id": "e97949f4",
   "metadata": {},
   "outputs": [],
   "source": []
  }
 ],
 "metadata": {
  "kernelspec": {
   "display_name": "Julia 1.7.3",
   "language": "julia",
   "name": "julia-1.7"
  },
  "language_info": {
   "file_extension": ".jl",
   "mimetype": "application/julia",
   "name": "julia",
   "version": "1.7.3"
  }
 },
 "nbformat": 4,
 "nbformat_minor": 5
}
