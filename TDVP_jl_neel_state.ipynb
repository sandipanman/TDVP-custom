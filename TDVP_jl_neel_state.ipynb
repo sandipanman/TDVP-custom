{
 "cells": [
  {
   "cell_type": "code",
   "execution_count": 3,
   "id": "212982ad",
   "metadata": {
    "ExecuteTime": {
     "end_time": "2022-06-10T22:40:29.625000+05:30",
     "start_time": "2022-06-10T17:10:27.390Z"
    }
   },
   "outputs": [
    {
     "name": "stderr",
     "output_type": "stream",
     "text": [
      "WARNING: using ITensors.cutoff in module Main conflicts with an existing identifier.\n"
     ]
    }
   ],
   "source": [
    "using ITensors\n",
    "using ITensors: position!\n",
    "using ITensorTDVP\n",
    "using KrylovKit\n",
    "using ProgressMeter\n",
    "\n",
    "#ProgressMeter.ijulia_behavior(:append)"
   ]
  },
  {
   "cell_type": "code",
   "execution_count": 5,
   "id": "1cbcce98",
   "metadata": {
    "ExecuteTime": {
     "end_time": "2022-06-10T22:40:44.534000+05:30",
     "start_time": "2022-06-10T17:10:44.121Z"
    }
   },
   "outputs": [
    {
     "data": {
      "text/plain": [
       "tdvp2! (generic function with 1 method)"
      ]
     },
     "execution_count": 5,
     "metadata": {},
     "output_type": "execute_result"
    }
   ],
   "source": [
    "struct TDVP2 end\n",
    "\n",
    "singlesite!(PH::ProjMPO) = (PH.nsite = 1)\n",
    "twosite!(PH::ProjMPO) = (PH.nsite = 2)\n",
    "\n",
    "function measure_Sz(psi,n)\n",
    "    psi = ITensors.orthogonalize(psi,n)\n",
    "    sn = siteind(psi,n)\n",
    "    Sz = scalar(dag(prime(psi[n],\"Site\"))*op(\"Sz\",sn)*psi[n])\n",
    "    return real(Sz)\n",
    "end\n",
    "\n",
    "\n",
    "function tdvp2!(ψ,H::MPO,dt,tf; kwargs...)\n",
    "    \n",
    "    num_time_steps = Int(tf/dt)\n",
    "    \n",
    "    #kwargs\n",
    "   \n",
    "    #The error tolerance for `KrylovKit.exponentiate`\n",
    "    exp_tol = get(kwargs,:exp_tol, 1e-14)\n",
    "    #Passed to KrylovKit\n",
    "    krylovdim = get(kwargs,:krylovdim, 30 )\n",
    "    maxiter = get(kwargs,:maxiter,100)\n",
    "    normalize = get(kwargs,:normalize,true)\n",
    "    #Is the Hamiltonian H hermitian? Useful to KrylovKit for exponentiation\n",
    "    hermitian = get(kwargs,:hermitian,true)\n",
    "    \n",
    "    #If progress bar is used\n",
    "    pbar = get(kwargs,:progress, true) ? Progress(num_time_steps, desc=\"Evolving state... \") : nothing\n",
    "    \n",
    "    #Imaginary time step\n",
    "    τ = 1im*dt\n",
    "    \n",
    "    num_sites = length(ψ)\n",
    "    #start with right orthogonalised wave function\n",
    "    ITensors.orthogonalize!(ψ,1)\n",
    "    \n",
    "    #https://docs.juliahub.com/ITensors/P3pqL/0.1.7/ProjMPO.html\n",
    "    PH = ProjMPO(H)\n",
    "    \n",
    "    #Projected MPO\n",
    "    \n",
    "    position!(PH,ψ,1)\n",
    "    \n",
    "    \n",
    "    #Do the time evolution\n",
    "    for time_step in 1:num_time_steps\n",
    "        stime  = @elapsed begin\n",
    "        # b is the active site  ha gives 1/2 depending on right/left swap\n",
    "        for (b,ha) in sweepnext(N)\n",
    "                # 2 - site TDVP .\n",
    "                twosite!(PH)\n",
    "\n",
    "                \n",
    "                #orthogonalise at position b\n",
    "                ITensors.position!(PH,ψ,b)\n",
    "                wf = ψ[b]*ψ[b+1]\n",
    "                wf, info = exponentiate(PH, -τ/2, wf; ishermitian=hermitian , tol=exp_tol, krylovdim=krylovdim)\n",
    "                #Determine sweep direction\n",
    "                dir = ha==1 ? \"left\" : \"right\"\n",
    "                info.converged==0 && throw(\"exponentiate did not converge\")\n",
    "                #Put back the updated ITensor(wf) in ψ\n",
    "                spec = replacebond!(ψ,b,wf;normalize=normalize, ortho = dir, kwargs... )\n",
    "                \n",
    "                \n",
    "               \n",
    "        \n",
    "\n",
    "            # evolve with single-site Hamiltonian backward in time.\n",
    "            # In the case of imaginary time-evolution this step\n",
    "            # is not necessary (see Ref. [1])\n",
    "            i = ha==1 ? b+1 : b\n",
    "            if 1<i<N && !(dt isa Complex)\n",
    "                singlesite!(PH)\n",
    "\n",
    "                ITensors.position!(PH,ψ,i)\n",
    "                ψ[i], info = exponentiate(PH,τ/2,ψ[i]; ishermitian=hermitian, tol=exp_tol, krylovdim=krylovdim,\n",
    "                                            maxiter=maxiter)\n",
    "                info.converged==0 && throw(\"exponentiate did not converge\")\n",
    "            elseif i==1 && dt isa Complex\n",
    "                # TODO not sure if this is necessary anymore\n",
    "                ψ[i] /= sqrt(real(scalar(dag(ψ[i])*ψ[i])))\n",
    "            end\n",
    "\n",
    "        end\n",
    "        end\n",
    "        \n",
    "        \n",
    "        Sz = measure_Sz(ψ,5)\n",
    "        !isnothing(pbar) && ProgressMeter.next!(pbar, showvalues=[(\"t\", dt*time_step),\n",
    "                                                                  (\"dt step time\", round(stime,digits=3)),\n",
    "                                                                  (\"Max bond-dim\", maxlinkdim(ψ)),\n",
    "                                                                  (\"Sz @ site 5\",Sz )])\n",
    "        \n",
    "    \n",
    "    \n",
    "        \n",
    "    end\n",
    "end\n"
   ]
  },
  {
   "cell_type": "code",
   "execution_count": 8,
   "id": "96df9f75",
   "metadata": {
    "ExecuteTime": {
     "end_time": "2022-06-10T22:44:46.567000+05:30",
     "start_time": "2022-06-10T17:14:46.519Z"
    }
   },
   "outputs": [
    {
     "name": "stdout",
     "output_type": "stream",
     "text": [
      "1 1\n",
      "2 1\n",
      "3 1\n",
      "4 1\n",
      "5 1\n",
      "6 1\n",
      "7 1\n",
      "8 1\n",
      "9 1\n",
      "9 2\n",
      "8 2\n",
      "7 2\n",
      "6 2\n",
      "5 2\n",
      "4 2\n",
      "3 2\n",
      "2 2\n",
      "1 2\n"
     ]
    }
   ],
   "source": [
    "for (b,ha) in sweepnext(N)\n",
    "    println(b,\" \",ha)\n",
    "end\n",
    "    "
   ]
  },
  {
   "cell_type": "code",
   "execution_count": null,
   "id": "57cd3d6b",
   "metadata": {},
   "outputs": [],
   "source": [
    "function tdvp1!(ψ,H::MPO,dt,tf; kwargs...)\n",
    "    \n",
    "    num_time_steps = Int(tf/dt)\n",
    "    \n",
    "    #kwargs\n",
    "   \n",
    "    #The error tolerance for `KrylovKit.exponentiate`\n",
    "    exp_tol = get(kwargs,:exp_tol, 1e-14)\n",
    "    #Passed to KrylovKit\n",
    "    krylovdim = get(kwargs,:krylovdim, 30 )\n",
    "    maxiter = get(kwargs,:maxiter,100)\n",
    "    normalize = get(kwargs,:normalize,true)\n",
    "    #Is the Hamiltonian H hermitian? Useful to KrylovKit for exponentiation\n",
    "    hermitian = get(kwargs,:hermitian,true)\n",
    "    \n",
    "    #If progress bar is used\n",
    "    pbar = get(kwargs,:progress, true) ? Progress(num_time_steps, desc=\"Evolving state... \") : nothing\n",
    "    \n",
    "    #Imaginary time step\n",
    "    τ = 1im*dt\n",
    "    \n",
    "    num_sites = length(ψ)\n",
    "    #start with right orthogonalised wave function\n",
    "    ITensors.orthogonalize!(ψ,1)\n",
    "    \n",
    "    #https://docs.juliahub.com/ITensors/P3pqL/0.1.7/ProjMPO.html\n",
    "    PH = ProjMPO(H)\n",
    "    \n",
    "    #Projected MPO\n",
    "    \n",
    "    position!(PH,ψ,1)\n",
    "    \n",
    "    \n",
    "    #Do the time evolution\n",
    "    for time_step in 1:num_time_steps\n",
    "        stime  = @elapsed begin\n",
    "        # b is the active site  ha gives 1/2 depending on right/left swap\n",
    "        for (b,ha) in sweepnext(N)\n",
    "                # 1 - site TDVP .\n",
    "                singlesite!(PH)\n",
    "\n",
    "                \n",
    "                #orthogonalise at position b\n",
    "                ITensors.position!(PH,ψ,b)\n",
    "                wf = ψ[b]\n",
    "                wf, info = exponentiate(PH, -τ/2, wf; ishermitian=hermitian , tol=exp_tol, krylovdim=krylovdim)\n",
    "                U,S,V = svd(M,i) \n",
    "                C=S*V\n",
    "                #Determine sweep direction\n",
    "                dir = ha==1 ? \"left\" : \"right\"\n",
    "                info.converged==0 && throw(\"exponentiate did not converge\")\n",
    "                #Put back the updated ITensor(wf) in ψ\n",
    "                spec = replacebond!(ψ,b,U;normalize=normalize, ortho = dir, kwargs... )\n",
    "                \n",
    "                \n",
    "               \n",
    "        \n",
    "\n",
    "            # evolve with single-site Hamiltonian backward in time.\n",
    "            # In the case of imaginary time-evolution this step\n",
    "            # is not necessary (see Ref. [1])\n",
    "            i = ha==1 ? b+1 : b\n",
    "            if 1<i<N && !(dt isa Complex)\n",
    "                singlesite!(PH)\n",
    "\n",
    "                ITensors.position!(PH,ψ,i)\n",
    "                ψ[i], info = exponentiate(PH,τ/2,ψ[i]; ishermitian=hermitian, tol=exp_tol, krylovdim=krylovdim,\n",
    "                                            maxiter=maxiter)\n",
    "                info.converged==0 && throw(\"exponentiate did not converge\")\n",
    "            elseif i==1 && dt isa Complex\n",
    "                # TODO not sure if this is necessary anymore\n",
    "                ψ[i] /= sqrt(real(scalar(dag(ψ[i])*ψ[i])))\n",
    "            end\n",
    "\n",
    "        end\n",
    "        end\n",
    "        \n",
    "        \n",
    "        Sz = measure_Sz(ψ,5)\n",
    "        !isnothing(pbar) && ProgressMeter.next!(pbar, showvalues=[(\"t\", dt*time_step),\n",
    "                                                                  (\"dt step time\", round(stime,digits=3)),\n",
    "                                                                  (\"Max bond-dim\", maxlinkdim(ψ)),\n",
    "                                                                  (\"Sz @ site 5\",Sz )])\n",
    "        \n",
    "    \n",
    "    \n",
    "        \n",
    "    end\n",
    "end"
   ]
  },
  {
   "cell_type": "code",
   "execution_count": 6,
   "id": "b16c1ec4",
   "metadata": {
    "ExecuteTime": {
     "end_time": "2022-06-10T22:40:56.938000+05:30",
     "start_time": "2022-06-10T17:10:45.520Z"
    },
    "scrolled": true
   },
   "outputs": [
    {
     "data": {
      "text/plain": [
       "MPS\n",
       "[1] ((dim=2|id=107|\"S=1/2,Site,n=1\"), (dim=1|id=522|\"Link,l=1\"))\n",
       "[2] ((dim=1|id=522|\"Link,l=1\"), (dim=2|id=189|\"S=1/2,Site,n=2\"), (dim=1|id=499|\"Link,l=2\"))\n",
       "[3] ((dim=1|id=499|\"Link,l=2\"), (dim=2|id=533|\"S=1/2,Site,n=3\"), (dim=1|id=379|\"Link,l=3\"))\n",
       "[4] ((dim=1|id=379|\"Link,l=3\"), (dim=2|id=544|\"S=1/2,Site,n=4\"), (dim=1|id=619|\"Link,l=4\"))\n",
       "[5] ((dim=1|id=619|\"Link,l=4\"), (dim=2|id=707|\"S=1/2,Site,n=5\"), (dim=1|id=832|\"Link,l=5\"))\n",
       "[6] ((dim=1|id=832|\"Link,l=5\"), (dim=2|id=518|\"S=1/2,Site,n=6\"), (dim=1|id=448|\"Link,l=6\"))\n",
       "[7] ((dim=1|id=448|\"Link,l=6\"), (dim=2|id=995|\"S=1/2,Site,n=7\"), (dim=1|id=138|\"Link,l=7\"))\n",
       "[8] ((dim=1|id=138|\"Link,l=7\"), (dim=2|id=498|\"S=1/2,Site,n=8\"), (dim=1|id=924|\"Link,l=8\"))\n",
       "[9] ((dim=1|id=924|\"Link,l=8\"), (dim=2|id=641|\"S=1/2,Site,n=9\"), (dim=1|id=131|\"Link,l=9\"))\n",
       "[10] ((dim=1|id=131|\"Link,l=9\"), (dim=2|id=555|\"S=1/2,Site,n=10\"))\n"
      ]
     },
     "execution_count": 6,
     "metadata": {},
     "output_type": "execute_result"
    }
   ],
   "source": [
    "N = 10\n",
    "cutoff = 1e-10\n",
    "\n",
    "s = siteinds(\"S=1/2\", N)\n",
    "\n",
    "os = OpSum()\n",
    "for j in 1:(N - 1)\n",
    "    os += 0.5, \"S+\", j, \"S-\", j + 1\n",
    "    os += 0.5, \"S-\", j, \"S+\", j + 1\n",
    "    os += \"Sz\", j, \"Sz\", j + 1\n",
    "end\n",
    "\n",
    "H = MPO(os, s)\n",
    "ψ = productMPS(s, n -> isodd(n) ? \"Up\" : \"Dn\")\n",
    "ψ1 = copy(ψ)"
   ]
  },
  {
   "cell_type": "code",
   "execution_count": 7,
   "id": "7766d512",
   "metadata": {
    "ExecuteTime": {
     "end_time": "2022-06-10T22:41:49.823000+05:30",
     "start_time": "2022-06-10T17:10:46.711Z"
    }
   },
   "outputs": [
    {
     "name": "stderr",
     "output_type": "stream",
     "text": [
      "┌ Warning: ProgressMeter by default refresh meters with additional information in IJulia via `IJulia.clear_output`, which clears all outputs in the cell. \n",
      "│  - To prevent this behaviour, do `ProgressMeter.ijulia_behavior(:append)`. \n",
      "│  - To disable this warning message, do `ProgressMeter.ijulia_behavior(:clear)`.\n",
      "└ @ ProgressMeter /home/sandipanmanna/.julia/packages/ProgressMeter/sN2xr/src/ProgressMeter.jl:618\n",
      "\r",
      "\u001b[32mEvolving state... 100%|█████████████████████████████████| Time: 0:00:47\u001b[39m\r\n",
      "\u001b[34m  t:             5.0\u001b[39m\r\n",
      "\u001b[34m  dt step time:  0.44\u001b[39m\r\n",
      "\u001b[34m  Max bond-dim:  32\u001b[39m\r\n",
      "\u001b[34m  Sz @ site 5:   0.00739252560015288\u001b[39m\n"
     ]
    }
   ],
   "source": [
    "tdvp2!(ψ1,H,0.1,5.0,exp_tol=cutoff)"
   ]
  },
  {
   "cell_type": "code",
   "execution_count": 9,
   "id": "8ac80340",
   "metadata": {
    "ExecuteTime": {
     "end_time": "2022-06-10T21:25:14.248000+05:30",
     "start_time": "2022-06-10T15:54:54.583Z"
    }
   },
   "outputs": [
    {
     "name": "stdout",
     "output_type": "stream",
     "text": [
      "After sweep 1: maxlinkdim=4 maxerr=8.89E-17 current_time=-1.0 time=15.676\n",
      "After sweep 2: maxlinkdim=16 maxerr=8.37E-11 current_time=-2.0 time=0.054\n",
      "After sweep 3: maxlinkdim=20 maxerr=7.41E-11 current_time=-3.0 time=0.068\n",
      "After sweep 4: maxlinkdim=20 maxerr=7.80E-11 current_time=-4.0 time=0.066\n",
      "After sweep 5: maxlinkdim=20 maxerr=7.81E-11 current_time=-5.0 time=0.066\n",
      "After sweep 6: maxlinkdim=20 maxerr=7.81E-11 current_time=-6.0 time=0.053\n",
      "After sweep 7: maxlinkdim=20 maxerr=7.81E-11 current_time=-7.0 time=0.043\n",
      "After sweep 8: maxlinkdim=20 maxerr=7.81E-11 current_time=-8.0 time=0.032\n",
      "After sweep 9: maxlinkdim=20 maxerr=7.81E-11 current_time=-9.0 time=0.028\n",
      "After sweep 10: maxlinkdim=20 maxerr=7.81E-11 current_time=-10.0 time=0.036\n",
      "After sweep 11: maxlinkdim=20 maxerr=7.81E-11 current_time=-11.0 time=0.024\n",
      "After sweep 12: maxlinkdim=20 maxerr=7.81E-11 current_time=-12.0 time=0.024\n",
      "After sweep 13: maxlinkdim=20 maxerr=7.81E-11 current_time=-13.0 time=0.034\n",
      "After sweep 14: maxlinkdim=20 maxerr=7.81E-11 current_time=-14.0 time=0.024\n",
      "After sweep 15: maxlinkdim=20 maxerr=7.81E-11 current_time=-15.0 time=0.027\n",
      "After sweep 16: maxlinkdim=20 maxerr=7.81E-11 current_time=-16.0 time=0.026\n",
      "After sweep 17: maxlinkdim=20 maxerr=7.81E-11 current_time=-17.0 time=0.035\n",
      "After sweep 18: maxlinkdim=20 maxerr=7.81E-11 current_time=-18.0 time=0.025\n",
      "After sweep 19: maxlinkdim=20 maxerr=7.81E-11 current_time=-19.0 time=0.031\n",
      "After sweep 20: maxlinkdim=20 maxerr=7.81E-11 current_time=-20.0 time=0.05\n"
     ]
    },
    {
     "data": {
      "text/plain": [
       "MPS\n",
       "[1] ((dim=2|id=197|\"Link,l=1\"), (dim=2|id=351|\"S=1/2,Site,n=1\"))\n",
       "[2] ((dim=4|id=119|\"Link,l=2\"), (dim=2|id=169|\"S=1/2,Site,n=2\"), (dim=2|id=197|\"Link,l=1\"))\n",
       "[3] ((dim=8|id=639|\"Link,l=3\"), (dim=2|id=676|\"S=1/2,Site,n=3\"), (dim=4|id=119|\"Link,l=2\"))\n",
       "[4] ((dim=16|id=225|\"Link,l=4\"), (dim=2|id=105|\"S=1/2,Site,n=4\"), (dim=8|id=639|\"Link,l=3\"))\n",
       "[5] ((dim=20|id=616|\"Link,l=5\"), (dim=2|id=709|\"S=1/2,Site,n=5\"), (dim=16|id=225|\"Link,l=4\"))\n",
       "[6] ((dim=16|id=897|\"Link,l=6\"), (dim=2|id=342|\"S=1/2,Site,n=6\"), (dim=20|id=616|\"Link,l=5\"))\n",
       "[7] ((dim=8|id=600|\"Link,l=7\"), (dim=2|id=438|\"S=1/2,Site,n=7\"), (dim=16|id=897|\"Link,l=6\"))\n",
       "[8] ((dim=4|id=939|\"Link,l=8\"), (dim=2|id=597|\"S=1/2,Site,n=8\"), (dim=8|id=600|\"Link,l=7\"))\n",
       "[9] ((dim=2|id=719|\"Link,l=9\"), (dim=2|id=611|\"S=1/2,Site,n=9\"), (dim=4|id=939|\"Link,l=8\"))\n",
       "[10] ((dim=2|id=884|\"S=1/2,Site,n=10\"), (dim=2|id=719|\"Link,l=9\"))\n"
      ]
     },
     "execution_count": 9,
     "metadata": {},
     "output_type": "execute_result"
    }
   ],
   "source": [
    "ϕ = tdvp(\n",
    "  H,\n",
    "  -1.0,\n",
    "  ψ;\n",
    "  nsweeps=20,\n",
    "  reverse_step=false,\n",
    "  normalize=true,\n",
    "  maxdim=30,\n",
    "  cutoff=1e-10,\n",
    "  outputlevel=1,\n",
    ") "
   ]
  },
  {
   "cell_type": "code",
   "execution_count": 10,
   "id": "67c9dc78",
   "metadata": {
    "ExecuteTime": {
     "end_time": "2022-06-10T21:25:47.526000+05:30",
     "start_time": "2022-06-10T15:55:44.043Z"
    }
   },
   "outputs": [
    {
     "name": "stdout",
     "output_type": "stream",
     "text": [
      "-0.279608979839224 + 0.1065337650325162im"
     ]
    }
   ],
   "source": [
    "print(inner(ψ1,ϕ))"
   ]
  },
  {
   "cell_type": "code",
   "execution_count": null,
   "id": "b691631f",
   "metadata": {},
   "outputs": [],
   "source": []
  }
 ],
 "metadata": {
  "kernelspec": {
   "display_name": "Julia 1.7.2",
   "language": "julia",
   "name": "julia-1.7"
  },
  "language_info": {
   "file_extension": ".jl",
   "mimetype": "application/julia",
   "name": "julia",
   "version": "1.7.2"
  }
 },
 "nbformat": 4,
 "nbformat_minor": 5
}
